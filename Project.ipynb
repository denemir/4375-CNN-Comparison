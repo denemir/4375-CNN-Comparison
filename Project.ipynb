{
 "cells": [
  {
   "cell_type": "markdown",
   "id": "cff608bf-f69f-4bdc-aaa1-68d10d3a2793",
   "metadata": {},
   "source": [
    "## Student Information"
   ]
  },
  {
   "cell_type": "code",
   "execution_count": 1,
   "id": "4d2dae52-89d8-434f-adda-8574044d5fd6",
   "metadata": {},
   "outputs": [],
   "source": [
    "# Student Name: Daniel Nemirovskiy, Nathan Seaney\n",
    "# Student ID: DEN200001, NES210004\n",
    "# Course Name: CS 4375-002"
   ]
  },
  {
   "cell_type": "markdown",
   "id": "39099b42-a42f-482a-972b-2b898330267f",
   "metadata": {},
   "source": [
    "## Importing Necessary Libraries"
   ]
  },
  {
   "cell_type": "code",
   "execution_count": 2,
   "id": "b0471d7e-edfb-44bf-b8e7-57be74f21154",
   "metadata": {},
   "outputs": [],
   "source": [
    "import os\n",
    "import torch\n",
    "import torch.nn as nn\n",
    "import torch.nn.functional as F\n",
    "import torch.optim as optim\n",
    "from torch.utils.data import DataLoader, random_split\n",
    "from torch.utils.tensorboard import SummaryWriter\n",
    "\n",
    "import torchvision\n",
    "import torchvision.transforms as transforms\n",
    "\n",
    "import numpy as np\n",
    "import matplotlib.pyplot as plt\n",
    "import seaborn as sns\n",
    "import pandas as pd\n",
    "import time\n",
    "import copy\n",
    "import random\n",
    "from tqdm.notebook import tqdm\n",
    "from sklearn.metrics import confusion_matrix, classification_report\n",
    "from collections import defaultdict"
   ]
  },
  {
   "cell_type": "markdown",
   "id": "1578ee2b-0554-4af4-865f-3d1e49511725",
   "metadata": {},
   "source": [
    "## Setting GPU"
   ]
  },
  {
   "cell_type": "code",
   "execution_count": 24,
   "id": "3939ded1-d50f-4fb8-af45-0b484e653a60",
   "metadata": {},
   "outputs": [
    {
     "name": "stdout",
     "output_type": "stream",
     "text": [
      "2.7.0+cpu\n",
      "None\n",
      "None\n",
      "False\n",
      "Using device: cpu\n"
     ]
    }
   ],
   "source": [
    "device = torch.device('cuda' if torch.cuda.is_available() else 'cpu')\n",
    "print(f\"Using device: {device}\")"
   ]
  },
  {
   "cell_type": "markdown",
   "id": "1623eed6-e9bd-4633-9f86-c6d7177f3544",
   "metadata": {},
   "source": [
    "## Creating Directories for Results"
   ]
  },
  {
   "cell_type": "code",
   "execution_count": 4,
   "id": "21ff4b45-62b7-4b02-9634-6de401d1aa9d",
   "metadata": {},
   "outputs": [],
   "source": [
    "os.makedirs('./results', exist_ok=True)\n",
    "os.makedirs('./results/runs', exist_ok=True)"
   ]
  },
  {
   "cell_type": "markdown",
   "id": "97e6eaf5-8ede-4b97-83db-de6cbd22a503",
   "metadata": {},
   "source": [
    "## Obtaining the Datasets"
   ]
  },
  {
   "cell_type": "code",
   "execution_count": 5,
   "id": "c2db3e28-d533-4b1a-b257-f7dda5539a0f",
   "metadata": {},
   "outputs": [],
   "source": [
    "def get_datasets(dataset_name, batch_size=32, num_workers=2):\n",
    "    \"\"\"\n",
    "    Load and preprocess datasets. Split training data into train and validation sets.\n",
    "    \"\"\"\n",
    "    # Define transformations\n",
    "    transform_train = transforms.Compose([\n",
    "        transforms.RandomCrop(32, padding=4),\n",
    "        transforms.RandomHorizontalFlip(),\n",
    "        transforms.ToTensor(),\n",
    "        transforms.Normalize((0.5, 0.5, 0.5), (0.5, 0.5, 0.5))\n",
    "    ])\n",
    "    \n",
    "    transform_test = transforms.Compose([\n",
    "        transforms.ToTensor(),\n",
    "        transforms.Normalize((0.5, 0.5, 0.5), (0.5, 0.5, 0.5))\n",
    "    ])\n",
    "    \n",
    "    # loading the dataset\n",
    "    if dataset_name.lower() == 'cifar10':\n",
    "        train_dataset = torchvision.datasets.CIFAR10(root='./data', train=True, \n",
    "                                                    download=True, transform=transform_train)\n",
    "        test_dataset = torchvision.datasets.CIFAR10(root='./data', train=False, \n",
    "                                                   download=True, transform=transform_test)\n",
    "        dataset_info = {\n",
    "            'name': 'CIFAR-10',\n",
    "            'num_classes': 10,\n",
    "            'classes': ('plane', 'car', 'bird', 'cat', 'deer', 'dog', 'frog', 'horse', 'ship', 'truck'),\n",
    "            'input_channels': 3,\n",
    "            'input_shape': (32, 32)\n",
    "        }\n",
    "        \n",
    "    elif dataset_name.lower() == 'svhn':\n",
    "        train_dataset = torchvision.datasets.SVHN(root='./data', split='train',\n",
    "                                                download=True, transform=transform_train)\n",
    "        test_dataset = torchvision.datasets.SVHN(root='./data', split='test',\n",
    "                                               download=True, transform=transform_test)\n",
    "        dataset_info = {\n",
    "            'name': 'SVHN',\n",
    "            'num_classes': 10,\n",
    "            'classes': tuple(str(i) for i in range(10)),  # Digits 0-9\n",
    "            'input_channels': 3,\n",
    "            'input_shape': (32, 32)\n",
    "        }\n",
    "    else:\n",
    "        raise ValueError(f\"Dataset {dataset_name} not supported. Use 'cifar10' or 'svhn'.\")\n",
    "    \n",
    "    # split training data into training and validation sets 90% train and 10% validation\n",
    "    val_size = int(0.1 * len(train_dataset))\n",
    "    train_size = len(train_dataset) - val_size\n",
    "    train_subset, val_subset = random_split(train_dataset, [train_size, val_size],\n",
    "                                          generator=torch.Generator().manual_seed(42))\n",
    "    \n",
    "    # data loaders\n",
    "    train_loader = DataLoader(train_subset, batch_size=batch_size,\n",
    "                             shuffle=True, num_workers=num_workers)\n",
    "    val_loader = DataLoader(val_subset, batch_size=batch_size,\n",
    "                           shuffle=False, num_workers=num_workers)\n",
    "    test_loader = DataLoader(test_dataset, batch_size=batch_size,\n",
    "                           shuffle=False, num_workers=num_workers)\n",
    "\n",
    "    # outputting number of samples for each subset\n",
    "    print(f\"Dataset: {dataset_info['name']}\")\n",
    "    print(f\"Number of training samples: {len(train_subset)}\")\n",
    "    print(f\"Number of validation samples: {len(val_subset)}\")\n",
    "    print(f\"Number of testing samples: {len(test_dataset)}\")\n",
    "    \n",
    "    return train_loader, val_loader, test_loader, dataset_info"
   ]
  },
  {
   "cell_type": "markdown",
   "id": "94dc0bec-1ea2-4dca-9e8a-ea539e3ade1a",
   "metadata": {},
   "source": [
    "## Visualizing the Data Samples"
   ]
  },
  {
   "cell_type": "code",
   "execution_count": 6,
   "id": "2639a7bd-39ac-4505-90f0-f5eb9c525c0b",
   "metadata": {},
   "outputs": [],
   "source": [
    "def visualize_dataset_samples(loader, classes, num_samples=5):\n",
    "    \"\"\"\n",
    "    Visualize samples from a dataset.\n",
    "    \"\"\"\n",
    "    samples, labels = next(iter(loader))\n",
    "    \n",
    "    # moving samples to CPU and convert to numpy\n",
    "    samples = samples.cpu().numpy()\n",
    "    \n",
    "    # unnormalizing images\n",
    "    samples = samples / 2 + 0.5\n",
    "    \n",
    "    plt.figure(figsize=(15, 10))\n",
    "    for i in range(min(num_samples, len(samples))):\n",
    "        plt.subplot(1, num_samples, i + 1)\n",
    "        plt.imshow(np.transpose(samples[i], (1, 2, 0)))\n",
    "        plt.title(classes[labels[i].item() if isinstance(labels[i], torch.Tensor) else labels[i]])\n",
    "        plt.axis('off')\n",
    "    plt.tight_layout()\n",
    "    plt.show()"
   ]
  },
  {
   "cell_type": "markdown",
   "id": "be40e9bd-817b-4958-9052-7288bcd2f6c0",
   "metadata": {},
   "source": [
    "## Implementing the LeNet Model"
   ]
  },
  {
   "cell_type": "code",
   "execution_count": 7,
   "id": "dbd93471-d596-4b8b-a85f-2b134ad9c3ca",
   "metadata": {},
   "outputs": [],
   "source": [
    "class LeNet(nn.Module):\n",
    "    \"\"\"\n",
    "    LeNet-5 CNN architecture\n",
    "    \"\"\"\n",
    "    def __init__(self, num_classes=10, input_channels=3):\n",
    "        super(LeNet, self).__init__()\n",
    "        # first convolutional layer with 6 filters of size 5x5, followed by ReLU and 2x2 max pooling\n",
    "        self.conv1 = nn.Conv2d(input_channels, 6, kernel_size=5, padding=2)\n",
    "        self.pool1 = nn.MaxPool2d(kernel_size=2, stride=2)\n",
    "        \n",
    "        # second convolutional layer with 16 filters of size 5x5, followed by ReLU and 2x2 max pooling\n",
    "        self.conv2 = nn.Conv2d(6, 16, kernel_size=5)\n",
    "        self.pool2 = nn.MaxPool2d(kernel_size=2, stride=2)\n",
    "        \n",
    "        # fully connected layers\n",
    "        self.fc1 = nn.Linear(16 * 6 * 6, 120)\n",
    "        self.fc2 = nn.Linear(120, 84)\n",
    "        self.fc3 = nn.Linear(84, num_classes)\n",
    "        \n",
    "    def forward(self, x):\n",
    "        # first convolutional block\n",
    "        x = self.pool1(F.relu(self.conv1(x)))\n",
    "        \n",
    "        # second convolutional block\n",
    "        x = self.pool2(F.relu(self.conv2(x)))\n",
    "        \n",
    "        # flattening\n",
    "        x = x.view(x.size(0), -1)\n",
    "        \n",
    "        # fully connected layers\n",
    "        x = F.relu(self.fc1(x))\n",
    "        x = F.relu(self.fc2(x))\n",
    "        x = self.fc3(x)\n",
    "        \n",
    "        return x\n",
    "\n",
    "# testing the model\n",
    "def test_lenet():\n",
    "    model = LeNet()\n",
    "    sample_input = torch.randn(1, 3, 32, 32)\n",
    "    output = model(sample_input)\n",
    "    print(f\"LeNet Test:\")\n",
    "    print(f\"  Input shape: {sample_input.shape}\")\n",
    "    print(f\"  Output shape: {output.shape}\")\n",
    "    print(f\"  Number of parameters: {sum(p.numel() for p in model.parameters())}\")"
   ]
  },
  {
   "cell_type": "markdown",
   "id": "66a36d30-4b44-4a92-a20f-f49cc862b969",
   "metadata": {},
   "source": [
    "## Implementing the ResNet-18 Model"
   ]
  },
  {
   "cell_type": "code",
   "execution_count": 8,
   "id": "9bfd5e3a-751e-4463-bb8c-af75d341fb22",
   "metadata": {},
   "outputs": [],
   "source": [
    "class BasicBlock(nn.Module):\n",
    "    \"\"\"\n",
    "    Basic block for ResNet-18 and ResNet-34\n",
    "    \"\"\"\n",
    "    expansion = 1\n",
    "    \n",
    "    def __init__(self, in_channels, out_channels, stride=1):\n",
    "        super(BasicBlock, self).__init__()\n",
    "        # first convolutional layer\n",
    "        self.conv1 = nn.Conv2d(in_channels, out_channels, kernel_size=3, stride=stride, padding=1, bias=False)\n",
    "        self.bn1 = nn.BatchNorm2d(out_channels)\n",
    "        \n",
    "        # second convolutional layer\n",
    "        self.conv2 = nn.Conv2d(out_channels, out_channels, kernel_size=3, stride=1, padding=1, bias=False)\n",
    "        self.bn2 = nn.BatchNorm2d(out_channels)\n",
    "        \n",
    "        # shortcut connection to match dimensions\n",
    "        self.shortcut = nn.Sequential()\n",
    "        if stride != 1 or in_channels != out_channels:\n",
    "            self.shortcut = nn.Sequential(\n",
    "                nn.Conv2d(in_channels, out_channels, kernel_size=1, stride=stride, bias=False),\n",
    "                nn.BatchNorm2d(out_channels)\n",
    "            )\n",
    "    \n",
    "    def forward(self, x):\n",
    "        # main path\n",
    "        out = F.relu(self.bn1(self.conv1(x)))\n",
    "        out = self.bn2(self.conv2(out))\n",
    "        \n",
    "        # shortcut connection\n",
    "        out += self.shortcut(x)\n",
    "        out = F.relu(out)\n",
    "        \n",
    "        return out\n",
    "\n",
    "class ResNet18(nn.Module):\n",
    "    \"\"\"\n",
    "    ResNet-18 implementation\n",
    "    \"\"\"\n",
    "    def __init__(self, num_classes=10, input_channels=3):\n",
    "        super(ResNet18, self).__init__()\n",
    "        \n",
    "        # first convolutional layer\n",
    "        self.in_channels = 64\n",
    "        self.conv1 = nn.Conv2d(input_channels, 64, kernel_size=3, stride=1, padding=1, bias=False)\n",
    "        self.bn1 = nn.BatchNorm2d(64)\n",
    "        \n",
    "        # four layers of the network with multiple residual blocks\n",
    "        self.layer1 = self._make_layer(BasicBlock, 64, 2, stride=1)\n",
    "        self.layer2 = self._make_layer(BasicBlock, 128, 2, stride=2)\n",
    "        self.layer3 = self._make_layer(BasicBlock, 256, 2, stride=2)\n",
    "        self.layer4 = self._make_layer(BasicBlock, 512, 2, stride=2)\n",
    "        \n",
    "        # global average pooling and fully connected layer\n",
    "        self.avgpool = nn.AdaptiveAvgPool2d((1, 1))\n",
    "        self.fc = nn.Linear(512 * BasicBlock.expansion, num_classes)\n",
    "    \n",
    "    def _make_layer(self, block, out_channels, num_blocks, stride):\n",
    "        \"\"\"\n",
    "        Creating a layer of residual blocks\n",
    "        \"\"\"\n",
    "        strides = [stride] + [1] * (num_blocks - 1)\n",
    "        layers = []\n",
    "        \n",
    "        for stride in strides:\n",
    "            layers.append(block(self.in_channels, out_channels, stride))\n",
    "            self.in_channels = out_channels * block.expansion\n",
    "        \n",
    "        return nn.Sequential(*layers)\n",
    "    \n",
    "    def forward(self, x):\n",
    "        # first convolution\n",
    "        out = F.relu(self.bn1(self.conv1(x)))\n",
    "        \n",
    "        # ResNet layers\n",
    "        out = self.layer1(out)\n",
    "        out = self.layer2(out)\n",
    "        out = self.layer3(out)\n",
    "        out = self.layer4(out)\n",
    "        \n",
    "        # global average pooling\n",
    "        out = self.avgpool(out)\n",
    "        out = out.view(out.size(0), -1)\n",
    "        \n",
    "        # fcl\n",
    "        out = self.fc(out)\n",
    "        \n",
    "        return out\n",
    "\n",
    "# testing the model\n",
    "def test_resnet18():\n",
    "    model = ResNet18()\n",
    "    sample_input = torch.randn(1, 3, 32, 32)  # Batch size 1, 3 channels, 32x32 image\n",
    "    output = model(sample_input)\n",
    "    print(f\"ResNet-18 Test:\")\n",
    "    print(f\"  Input shape: {sample_input.shape}\")\n",
    "    print(f\"  Output shape: {output.shape}\")\n",
    "    print(f\"  Number of parameters: {sum(p.numel() for p in model.parameters())}\")"
   ]
  },
  {
   "cell_type": "markdown",
   "id": "0a6753bc-6b9a-4d2d-bd9f-48d6ad03058d",
   "metadata": {},
   "source": [
    "## Implementing our Custom FCNN"
   ]
  },
  {
   "cell_type": "code",
   "execution_count": 9,
   "id": "b8a68182-952c-48c4-a0bf-bb179bd57a9d",
   "metadata": {},
   "outputs": [],
   "source": [
    "class CustomCNN(nn.Module):\n",
    "    def __init__(self, num_classes=10):\n",
    "        super(CustomCNN, self).__init__()\n",
    "\n",
    "        # initial Downsampling using strided convolution instead of max pooling\n",
    "        self.conv1 = nn.Conv2d(3, 24, kernel_size=7, stride=2, padding=3)\n",
    "        self.act1 = nn.GELU()  # Non-standard activation for diversity\n",
    "\n",
    "        # depthwise separable convolution block\n",
    "        self.dwconv2 = nn.Conv2d(24, 24, kernel_size=3, stride=1, padding=1, groups=24)\n",
    "        self.pwconv2 = nn.Conv2d(24, 48, kernel_size=1)\n",
    "        self.act2 = nn.GELU()\n",
    "\n",
    "        # dilated convolution block (to capture context without downsampling)\n",
    "        self.dilated_conv = nn.Conv2d(48, 64, kernel_size=3, padding=2, dilation=2)\n",
    "        self.bn3 = nn.BatchNorm2d(64)\n",
    "        self.act3 = nn.SiLU()\n",
    "\n",
    "        # global average pooling instead of flatten + dense\n",
    "        self.global_avg_pool = nn.AdaptiveAvgPool2d((1, 1))\n",
    "\n",
    "        # classifier\n",
    "        self.dropout = nn.Dropout(0.4)\n",
    "        self.fc = nn.Linear(64, num_classes)\n",
    "\n",
    "    def forward(self, x):\n",
    "        x = self.act1(self.conv1(x))\n",
    "\n",
    "        x = self.act2(self.pwconv2(self.dwconv2(x)))\n",
    "\n",
    "        x = self.act3(self.bn3(self.dilated_conv(x)))\n",
    "\n",
    "        x = self.global_avg_pool(x) \n",
    "        x = torch.flatten(x, 1)\n",
    "\n",
    "        x = self.dropout(x)\n",
    "        x = self.fc(x)\n",
    "\n",
    "        return x\n",
    "\n",
    "# testing the model\n",
    "def test_customcnn():\n",
    "    model = CustomCNN(\n",
    "        filters=(16, 32, 64), \n",
    "        kernel_sizes=(3, 3, 3), \n",
    "        fc_sizes=(128,),\n",
    "        dropout_rate=0.2,\n",
    "        use_batch_norm=True\n",
    "    )\n",
    "    sample_input = torch.randn(1, 3, 32, 32)  # Batch size 1, 3 channels, 32x32 image\n",
    "    output = model(sample_input)\n",
    "    print(f\"CustomCNN Test:\")\n",
    "    print(f\"  Input shape: {sample_input.shape}\")\n",
    "    print(f\"  Output shape: {output.shape}\")\n",
    "    print(f\"  Number of parameters: {sum(p.numel() for p in model.parameters())}\")"
   ]
  },
  {
   "cell_type": "markdown",
   "id": "402acd17-cb67-413b-b362-6548fcadb1db",
   "metadata": {},
   "source": [
    "## Model Selector function"
   ]
  },
  {
   "cell_type": "code",
   "execution_count": 10,
   "id": "1a8167d0-adda-4c2c-9179-8f19c1953f15",
   "metadata": {},
   "outputs": [],
   "source": [
    "def get_model(model_name, num_classes=10, input_channels=3):\n",
    "    \"\"\"\n",
    "    Return model instance based on name.\n",
    "    \"\"\"\n",
    "    if model_name.lower() == 'lenet':\n",
    "        return LeNet(num_classes=num_classes, input_channels=input_channels)\n",
    "    elif model_name.lower() == 'resnet18':\n",
    "        return ResNet18(num_classes=num_classes, input_channels=input_channels)\n",
    "    elif model_name.lower() == 'customcnn':\n",
    "        return CustomCNN(num_classes=num_classes)\n",
    "    else:\n",
    "        raise ValueError(f\"Model {model_name} not supported. Use 'lenet', 'resnet18', or 'customcnn'.\")\n"
   ]
  },
  {
   "attachments": {},
   "cell_type": "markdown",
   "id": "290d3e48-90b6-4d98-84f4-5674eedad50f",
   "metadata": {},
   "source": [
    "## Defining the Training Function"
   ]
  },
  {
   "cell_type": "code",
   "execution_count": 11,
   "id": "6c1ffead-f02b-48e3-865b-7de806b5fee8",
   "metadata": {},
   "outputs": [],
   "source": [
    "def train_model(model, dataloaders, criterion, optimizer, device, \n",
    "               num_epochs=25, model_name=\"model\", dataset_name=\"dataset\",\n",
    "               scheduler=None, log_step=100, save_dir=\"./results\"):\n",
    "    \"\"\"\n",
    "    Train a model and evaluate on validation set.\n",
    "    \"\"\"\n",
    "    since = time.time()\n",
    "    \n",
    "    # setting up the TensorBoard writer\n",
    "    writer = SummaryWriter(f\"{save_dir}/runs/{model_name}_{dataset_name}\")\n",
    "    \n",
    "    # initializing training history\n",
    "    history = {\n",
    "        'train_loss': [],\n",
    "        'train_acc': [],\n",
    "        'val_loss': [],\n",
    "        'val_acc': []\n",
    "    }\n",
    "    \n",
    "    # copy initial weights\n",
    "    best_model_wts = copy.deepcopy(model.state_dict())\n",
    "    best_acc = 0.0\n",
    "    \n",
    "    # train loop\n",
    "    for epoch in range(num_epochs):\n",
    "        print(f'Epoch {epoch+1}/{num_epochs}')\n",
    "        print('-' * 10)\n",
    "        \n",
    "        # splitting training and validation\n",
    "        for phase in ['train', 'val']:\n",
    "            if phase == 'train':\n",
    "                model.train()  # Set model to training mode\n",
    "            else:\n",
    "                model.eval()   # Set model to evaluate mode\n",
    "            \n",
    "            running_loss = 0.0\n",
    "            running_corrects = 0\n",
    "            \n",
    "            # iterating over batches\n",
    "            data_iterator = tqdm(dataloaders[phase], desc=f'{phase} - Epoch {epoch+1}/{num_epochs}')\n",
    "            for i, (inputs, labels) in enumerate(data_iterator):\n",
    "                inputs = inputs.to(device)\n",
    "                labels = labels.to(device)\n",
    "                optimizer.zero_grad()\n",
    "                \n",
    "                # Forward pass\n",
    "                with torch.set_grad_enabled(phase == 'train'):\n",
    "                    outputs = model(inputs)\n",
    "                    _, preds = torch.max(outputs, 1)\n",
    "                    loss = criterion(outputs, labels)\n",
    "                    \n",
    "                    # backward pass + optimize, only if in training phase\n",
    "                    if phase == 'train':\n",
    "                        loss.backward()\n",
    "                        optimizer.step()\n",
    "                        \n",
    "                        # logging to TensorBoard\n",
    "                        global_step = epoch * len(dataloaders['train']) + i\n",
    "                        if global_step % log_step == 0:\n",
    "                            writer.add_scalar(f'Loss/{phase}', loss.item(), global_step)\n",
    "                \n",
    "                # stats\n",
    "                running_loss += loss.item() * inputs.size(0)\n",
    "                running_corrects += torch.sum(preds == labels.data)\n",
    "            \n",
    "            # updating the learning rate if scheduler is provided\n",
    "            if phase == 'train' and scheduler is not None:\n",
    "                scheduler.step()\n",
    "            \n",
    "            # calculating epoch statistics\n",
    "            epoch_loss = running_loss / len(dataloaders[phase].dataset)\n",
    "            epoch_acc = running_corrects.double() / len(dataloaders[phase].dataset)\n",
    "            \n",
    "            # logging epoch statistics\n",
    "            writer.add_scalar(f'Epoch_Loss/{phase}', epoch_loss, epoch)\n",
    "            writer.add_scalar(f'Epoch_Accuracy/{phase}', epoch_acc, epoch)\n",
    "            \n",
    "            # history updates\n",
    "            if phase == 'train':\n",
    "                history['train_loss'].append(epoch_loss)\n",
    "                history['train_acc'].append(epoch_acc.item())\n",
    "            else:\n",
    "                history['val_loss'].append(epoch_loss)\n",
    "                history['val_acc'].append(epoch_acc.item())\n",
    "\n",
    "            # outputting loss and accuracy of epoch\n",
    "            print(f'{phase} Loss: {epoch_loss:.4f} Acc: {epoch_acc:.4f}')\n",
    "            \n",
    "            # saving the best model\n",
    "            if phase == 'val' and epoch_acc > best_acc:\n",
    "                best_acc = epoch_acc\n",
    "                best_model_wts = copy.deepcopy(model.state_dict())\n",
    "                torch.save({\n",
    "                    'epoch': epoch,\n",
    "                    'model_state_dict': best_model_wts,\n",
    "                    'optimizer_state_dict': optimizer.state_dict(),\n",
    "                    'accuracy': best_acc,\n",
    "                }, f\"{save_dir}/{model_name}_{dataset_name}_best.pth\")\n",
    "        \n",
    "        # checkpoint after each epoch\n",
    "        torch.save({\n",
    "            'epoch': epoch,\n",
    "            'model_state_dict': model.state_dict(),\n",
    "            'optimizer_state_dict': optimizer.state_dict(),\n",
    "            'history': history,\n",
    "        }, f\"{save_dir}/{model_name}_{dataset_name}_checkpoint.pth\")\n",
    "        \n",
    "        print()\n",
    "    \n",
    "    # calculating total training time\n",
    "    time_elapsed = time.time() - since\n",
    "    print(f'Training complete in {time_elapsed // 60:.0f}m {time_elapsed % 60:.0f}s')\n",
    "    print(f'Best val Acc: {best_acc:.4f}')\n",
    "    \n",
    "    # adding model graph to TensorBoard\n",
    "    writer.add_graph(model, next(iter(dataloaders['train']))[0].to(device))\n",
    "    writer.close()\n",
    "    \n",
    "    # loading best model weights\n",
    "    model.load_state_dict(best_model_wts)\n",
    "    \n",
    "    return model, history"
   ]
  },
  {
   "cell_type": "markdown",
   "id": "102b827b-90da-4554-9c74-ed428c5b6d24",
   "metadata": {},
   "source": [
    "## Evaluating the Models"
   ]
  },
  {
   "cell_type": "code",
   "execution_count": 12,
   "id": "fdaeb4eb-30b6-4108-98db-c1cbe8b95bf6",
   "metadata": {},
   "outputs": [],
   "source": [
    "def evaluate_model(model, dataloader, criterion, device, dataset_name=\"dataset\"):\n",
    "    \"\"\"\n",
    "    Evaluate a model on test set\n",
    "    \"\"\"\n",
    "    model.eval()\n",
    "    \n",
    "    running_loss = 0.0\n",
    "    running_corrects = 0\n",
    "    \n",
    "    all_preds = []\n",
    "    all_labels = []\n",
    "    \n",
    "    # iterating over batches\n",
    "    with torch.no_grad():\n",
    "        for inputs, labels in tqdm(dataloader, desc=f'Evaluating on {dataset_name}'):\n",
    "            inputs = inputs.to(device)\n",
    "            labels = labels.to(device)\n",
    "            \n",
    "            # forward pass\n",
    "            outputs = model(inputs)\n",
    "            _, preds = torch.max(outputs, 1)\n",
    "            loss = criterion(outputs, labels)\n",
    "            \n",
    "            # stats\n",
    "            running_loss += loss.item() * inputs.size(0)\n",
    "            running_corrects += torch.sum(preds == labels.data)\n",
    "            \n",
    "            # storing predictions and labels\n",
    "            all_preds.extend(preds.cpu().numpy())\n",
    "            all_labels.extend(labels.cpu().numpy())\n",
    "    \n",
    "    # stats\n",
    "    test_loss = running_loss / len(dataloader.dataset)\n",
    "    test_acc = running_corrects.double() / len(dataloader.dataset)\n",
    "\n",
    "    # outputting loss and accuracy for evaluation\n",
    "    print(f'Test Loss: {test_loss:.4f} Acc: {test_acc:.4f}')\n",
    "    \n",
    "    return test_loss, test_acc.item(), all_preds, all_labels"
   ]
  },
  {
   "cell_type": "markdown",
   "id": "b4257f36-8059-447f-bdff-6dc7655f7cde",
   "metadata": {},
   "source": [
    "## Plotting the Training History and Confusion Matrix"
   ]
  },
  {
   "cell_type": "code",
   "execution_count": 13,
   "id": "b2cb794c-c6d9-4b61-b475-36bc609eae09",
   "metadata": {},
   "outputs": [],
   "source": [
    "def plot_training_history(history, title, save_dir=\"./results\"):\n",
    "    \"\"\"\n",
    "    Plot training and validation loss and accuracy curves\n",
    "    \"\"\"\n",
    "    epochs = range(1, len(history['train_loss']) + 1)\n",
    "    fig, (ax1, ax2) = plt.subplots(1, 2, figsize=(15, 5))\n",
    "    \n",
    "    # plotting loss\n",
    "    ax1.plot(epochs, history['train_loss'], 'b-', label='Training Loss')\n",
    "    ax1.plot(epochs, history['val_loss'], 'r-', label='Validation Loss')\n",
    "    ax1.set_title('Training and Validation Loss')\n",
    "    ax1.set_xlabel('Epochs')\n",
    "    ax1.set_ylabel('Loss')\n",
    "    ax1.legend()\n",
    "    ax1.grid(True)\n",
    "    \n",
    "    # plotting accuracy\n",
    "    ax2.plot(epochs, history['train_acc'], 'b-', label='Training Accuracy')\n",
    "    ax2.plot(epochs, history['val_acc'], 'r-', label='Validation Accuracy')\n",
    "    ax2.set_title('Training and Validation Accuracy')\n",
    "    ax2.set_xlabel('Epochs')\n",
    "    ax2.set_ylabel('Accuracy')\n",
    "    ax2.legend()\n",
    "    ax2.grid(True)\n",
    "    \n",
    "    plt.suptitle(title, fontsize=16)\n",
    "    plt.tight_layout()\n",
    "    \n",
    "    # saving plotted visualizations to file for report\n",
    "    os.makedirs(save_dir, exist_ok=True)\n",
    "    plt.savefig(f\"{save_dir}/{title.replace(' ', '_')}_history.png\")\n",
    "    plt.show()\n",
    "    \n",
    "    print(f\"Training history plot saved to {save_dir}/{title.replace(' ', '_')}_history.png\")\n",
    "\n",
    "def plot_confusion_matrix(y_true, y_pred, classes, title, save_dir=\"./results\"):\n",
    "    \"\"\"\n",
    "    Plot confusion matrix\n",
    "    \"\"\"\n",
    "    # computing confusion matrix\n",
    "    cm = confusion_matrix(y_true, y_pred)\n",
    "    \n",
    "    plt.figure(figsize=(10, 8))\n",
    "    \n",
    "    # creating a heatmap\n",
    "    sns.heatmap(cm, annot=True, fmt='d', cmap='Blues', xticklabels=classes, yticklabels=classes)\n",
    "    \n",
    "    # adding labels\n",
    "    plt.title(title)\n",
    "    plt.xlabel('Predicted')\n",
    "    plt.ylabel('True')\n",
    "    \n",
    "    # saving matrix visualiation\n",
    "    os.makedirs(save_dir, exist_ok=True)\n",
    "    plt.savefig(f\"{save_dir}/{title.replace(' ', '_')}_confusion_matrix.png\")\n",
    "    plt.show()\n",
    "    \n",
    "    print(f\"Confusion matrix plot saved to {save_dir}/{title.replace(' ', '_')}_confusion_matrix.png\")\n"
   ]
  },
  {
   "cell_type": "markdown",
   "id": "146e6b34-29b1-456c-9155-31662c5c1005",
   "metadata": {},
   "source": [
    "## Defining the Classification Report Function"
   ]
  },
  {
   "cell_type": "code",
   "execution_count": 14,
   "id": "8ba4b9b8-78e8-4204-9fcc-ccd4be8ddb61",
   "metadata": {},
   "outputs": [],
   "source": [
    "def generate_classification_report(y_true, y_pred, classes, title, save_dir=\"./results\"):\n",
    "    \"\"\"\n",
    "    Generate and save classification report\n",
    "    \"\"\"\n",
    "    # generating the classification report\n",
    "    report = classification_report(y_true, y_pred, target_names=classes, output_dict=True)\n",
    "    \n",
    "    # converting to dataframe for visualization\n",
    "    df_report = pd.DataFrame(report).transpose()\n",
    "    \n",
    "    # saving report to CSV\n",
    "    os.makedirs(save_dir, exist_ok=True)\n",
    "    df_report.to_csv(f\"{save_dir}/{title.replace(' ', '_')}_classification_report.csv\")\n",
    "    \n",
    "    print(f\"Classification report saved to {save_dir}/{title.replace(' ', '_')}_classification_report.csv\")\n",
    "    \n",
    "    return df_report"
   ]
  },
  {
   "cell_type": "markdown",
   "id": "f6bb9bec-8da4-48e6-94a2-31d202cbb653",
   "metadata": {},
   "source": [
    "## Model Comparison"
   ]
  },
  {
   "cell_type": "code",
   "execution_count": 15,
   "id": "d412308e-abc4-44f0-b2c4-9c3662566953",
   "metadata": {},
   "outputs": [],
   "source": [
    "def compare_models(results, title, save_dir=\"./results\"):\n",
    "    \"\"\"\n",
    "    Generate bar plots comparing different models\n",
    "    \"\"\"\n",
    "    # extracting data\n",
    "    models = list(results.keys())\n",
    "    accuracies = [results[model]['accuracy'] for model in models]\n",
    "    losses = [results[model]['loss'] for model in models]\n",
    "    \n",
    "    fig, (ax1, ax2) = plt.subplots(1, 2, figsize=(15, 6))\n",
    "    \n",
    "    # plotting accuracy\n",
    "    bars1 = ax1.bar(models, accuracies, color='skyblue')\n",
    "    ax1.set_title('Model Accuracy Comparison')\n",
    "    ax1.set_xlabel('Model')\n",
    "    ax1.set_ylabel('Accuracy')\n",
    "    ax1.set_ylim(0, 1.0)\n",
    "    \n",
    "    for bar in bars1:\n",
    "        height = bar.get_height()\n",
    "        ax1.text(bar.get_x() + bar.get_width()/2., height + 0.01,\n",
    "                f'{height:.4f}', ha='center', va='bottom')\n",
    "    \n",
    "    # plotting loss\n",
    "    bars2 = ax2.bar(models, losses, color='salmon')\n",
    "    ax2.set_title('Model Loss Comparison')\n",
    "    ax2.set_xlabel('Model')\n",
    "    ax2.set_ylabel('Loss')\n",
    "    \n",
    "    for bar in bars2:\n",
    "        height = bar.get_height()\n",
    "        ax2.text(bar.get_x() + bar.get_width()/2., height + 0.01,\n",
    "                f'{height:.4f}', ha='center', va='bottom')\n",
    "    \n",
    "    plt.suptitle(title, fontsize=16)\n",
    "    plt.tight_layout()\n",
    "    \n",
    "    # saving the comparison\n",
    "    os.makedirs(save_dir, exist_ok=True)\n",
    "    plt.savefig(f\"{save_dir}/{title.replace(' ', '_')}_comparison.png\")\n",
    "    plt.show()\n",
    "    \n",
    "    print(f\"Model comparison plot saved to {save_dir}/{title.replace(' ', '_')}_comparison.png\")\n"
   ]
  },
  {
   "cell_type": "markdown",
   "id": "088a258a-4134-4745-909b-5dd0e98136db",
   "metadata": {},
   "source": [
    "## Running the Final Tests"
   ]
  },
  {
   "cell_type": "code",
   "execution_count": 16,
   "id": "13fbb7bc-8744-42ad-88b3-929d9c40b52e",
   "metadata": {},
   "outputs": [],
   "source": [
    "def run_experiment(dataset_names=['cifar10', 'svhn'], \n",
    "                  model_names=['lenet', 'resnet18', 'customcnn'],\n",
    "                  batch_size=128, epochs=30, learning_rate=0.001, weight_decay=1e-4,\n",
    "                  num_workers=2, save_dir='./results', log_step=100):\n",
    "    \"\"\"\n",
    "    Run the complete experiment pipeline.\n",
    "    \"\"\"\n",
    "    # results dictionary to store metrics for all models and datasets\n",
    "    results = defaultdict(dict)\n",
    "    \n",
    "    # iterating over each dataset\n",
    "    for dataset_name in dataset_names:\n",
    "        print(f\"\\n{'='*50}\")\n",
    "        print(f\"Processing dataset: {dataset_name}\")\n",
    "        print(f\"{'='*50}\")\n",
    "        \n",
    "        # load the dataset\n",
    "        train_loader, val_loader, test_loader, dataset_info = get_datasets(\n",
    "            dataset_name, batch_size=batch_size, num_workers=num_workers\n",
    "        )\n",
    "        \n",
    "        # visualizing samples\n",
    "        visualize_dataset_samples(train_loader, dataset_info['classes'])\n",
    "        \n",
    "        # creating dataloader dictionary\n",
    "        dataloaders = {\n",
    "            'train': train_loader,\n",
    "            'val': val_loader,\n",
    "            'test': test_loader\n",
    "        }\n",
    "        \n",
    "        # iterating over the models\n",
    "        for model_name in model_names:\n",
    "            print(f\"\\n{'-'*40}\")\n",
    "            print(f\"Training {model_name} on {dataset_name}\")\n",
    "            print(f\"{'-'*40}\")\n",
    "            \n",
    "            # model initialization\n",
    "            model = get_model(\n",
    "                model_name, \n",
    "                num_classes=dataset_info['num_classes'],\n",
    "                input_channels=dataset_info['input_channels']\n",
    "            )\n",
    "            model = model.to(device)\n",
    "            \n",
    "            # printing # of params for model\n",
    "            print(f\"Model: {model_name}\")\n",
    "            print(f\"Number of parameters: {sum(p.numel() for p in model.parameters())}\")\n",
    "            \n",
    "            # defining loss and optimization functions\n",
    "            criterion = nn.CrossEntropyLoss()\n",
    "            optimizer = optim.Adam(model.parameters(), lr=learning_rate, weight_decay=weight_decay)\n",
    "            \n",
    "            # learning rate scheduler\n",
    "            scheduler = optim.lr_scheduler.StepLR(optimizer, step_size=7, gamma=0.1)\n",
    "            \n",
    "            # training the model\n",
    "            model, history = train_model(\n",
    "                model, dataloaders, criterion, optimizer, device,\n",
    "                num_epochs=epochs, model_name=model_name, dataset_name=dataset_name,\n",
    "                scheduler=scheduler, log_step=log_step, save_dir=save_dir\n",
    "            )\n",
    "            \n",
    "            # plotting history\n",
    "            plot_training_history(\n",
    "                history, f\"{model_name} on {dataset_name}\", save_dir=save_dir\n",
    "            )\n",
    "            \n",
    "            # model evaluation on test set\n",
    "            test_loss, test_acc, test_preds, test_labels = evaluate_model(\n",
    "                model, test_loader, criterion, device, dataset_name=dataset_name\n",
    "            )\n",
    "            \n",
    "            # storing results\n",
    "            results[dataset_name][model_name] = {\n",
    "                'accuracy': test_acc,\n",
    "                'loss': test_loss\n",
    "            }\n",
    "            \n",
    "            # plotting confusion matrix\n",
    "            plot_confusion_matrix(\n",
    "                test_labels, test_preds, dataset_info['classes'],\n",
    "                f\"{model_name} on {dataset_name}\", save_dir=save_dir\n",
    "            )\n",
    "            \n",
    "            # generating classification report\n",
    "            report_df = generate_classification_report(\n",
    "                test_labels, test_preds, dataset_info['classes'],\n",
    "                f\"{model_name} on {dataset_name}\", save_dir=save_dir\n",
    "            )\n",
    "            \n",
    "            print(\"\\nClassification Report:\")\n",
    "            display(report_df)\n",
    "            \n",
    "        # model comparison by dataset\n",
    "        compare_models(\n",
    "            results[dataset_name], f\"Model Comparison on {dataset_name}\", save_dir=save_dir\n",
    "        )\n",
    "    \n",
    "    # outputting final results\n",
    "    print(\"\\nFinal Results:\")\n",
    "    for dataset_name in dataset_names:\n",
    "        print(f\"\\nDataset: {dataset_name}\")\n",
    "        for model_name in model_names:\n",
    "            print(f\"  {model_name}: Accuracy = {results[dataset_name][model_name]['accuracy']:.4f}, \"\n",
    "                  f\"Loss = {results[dataset_name][model_name]['loss']:.4f}\")\n",
    "    \n",
    "    return results"
   ]
  },
  {
   "cell_type": "markdown",
   "id": "db0d4660-db41-4aba-ad22-95182bb7546f",
   "metadata": {},
   "source": [
    "## Evaluating Trained Models"
   ]
  },
  {
   "cell_type": "code",
   "execution_count": 17,
   "id": "eecdff6d-88d6-4ff6-a6c2-dca1e83bb95f",
   "metadata": {},
   "outputs": [],
   "source": [
    "def evaluate_trained_model(model_name, dataset_name, checkpoint_path):\n",
    "    \"\"\"\n",
    "    Evaluate a trained model on test data.\n",
    "    \"\"\"\n",
    "    # loading the dataset\n",
    "    _, _, test_loader, dataset_info = get_datasets(\n",
    "        dataset_name, batch_size=128, num_workers=2\n",
    "    )\n",
    "    \n",
    "    # model initialization\n",
    "    model = get_model(\n",
    "        model_name, \n",
    "        num_classes=dataset_info['num_classes'],\n",
    "        input_channels=dataset_info['input_channels']\n",
    "    )\n",
    "    model = model.to(device)\n",
    "    \n",
    "    # loading checkpoint\n",
    "    checkpoint = torch.load(checkpoint_path, map_location=device)\n",
    "    if 'model_state_dict' in checkpoint:\n",
    "        model.load_state_dict(checkpoint['model_state_dict'])\n",
    "    else:\n",
    "        model.load_state_dict(checkpoint)\n",
    "    \n",
    "    # defining the loss function\n",
    "    criterion = nn.CrossEntropyLoss()\n",
    "    \n",
    "    # evaluating the model on test set\n",
    "    test_loss, test_acc, test_preds, test_labels = evaluate_model(\n",
    "        model, test_loader, criterion, device, dataset_name=dataset_name\n",
    "    )\n",
    "    \n",
    "    # plotting the confusion matrix\n",
    "    plot_confusion_matrix(\n",
    "        test_labels, test_preds, dataset_info['classes'],\n",
    "        f\"{model_name} on {dataset_name} Test Set\", save_dir='./results'\n",
    "    )\n",
    "    \n",
    "    # generating a classification report\n",
    "    report_df = generate_classification_report(\n",
    "        test_labels, test_preds, dataset_info['classes'],\n",
    "        f\"{model_name} on {dataset_name} Test Set\", save_dir='./results'\n",
    "    )\n",
    "    \n",
    "    print(\"\\nClassification Report:\")\n",
    "    display(report_df)\n",
    "    \n",
    "    return test_acc, test_loss"
   ]
  },
  {
   "cell_type": "markdown",
   "id": "e1c1b45a-c2e1-493c-80b5-f07fa0c7c77a",
   "metadata": {},
   "source": [
    "## Running the Experiment"
   ]
  },
  {
   "cell_type": "code",
   "execution_count": 18,
   "id": "cde33563-f126-4d9d-8286-7734baca5d2e",
   "metadata": {},
   "outputs": [
    {
     "name": "stdout",
     "output_type": "stream",
     "text": [
      "\n",
      "==================================================\n",
      "Processing dataset: cifar10\n",
      "==================================================\n",
      "Dataset: CIFAR-10\n",
      "Number of training samples: 45000\n",
      "Number of validation samples: 5000\n",
      "Number of testing samples: 10000\n"
     ]
    },
    {
     "data": {
      "image/png": "[encoded data removed]",
      "text/plain": [
       "<Figure size 1500x1000 with 5 Axes>"
      ]
     },
     "metadata": {},
     "output_type": "display_data"
    },
    {
     "name": "stdout",
     "output_type": "stream",
     "text": [
      "Showing 5 sample images from dataset\n",
      "\n",
      "----------------------------------------\n",
      "Training customcnn on cifar10\n",
      "----------------------------------------\n",
      "Model: customcnn\n",
      "Number of parameters: 33482\n",
      "Epoch 1/30\n",
      "----------\n"
     ]
    },
    {
     "data": {
      "application/vnd.jupyter.widget-view+json": {
       "model_id": "d917df9e9dcc4a3f92b296f88c145c2b",
       "version_major": 2,
       "version_minor": 0
      },
      "text/plain": [
       "train - Epoch 1/30:   0%|          | 0/352 [00:00<?, ?it/s]"
      ]
     },
     "metadata": {},
     "output_type": "display_data"
    },
    {
     "name": "stdout",
     "output_type": "stream",
     "text": [
      "train Loss: 1.9149 Acc: 0.2822\n"
     ]
    },
    {
     "data": {
      "application/vnd.jupyter.widget-view+json": {
       "model_id": "f2df0523ef3c41baae5a7090248904d9",
       "version_major": 2,
       "version_minor": 0
      },
      "text/plain": [
       "val - Epoch 1/30:   0%|          | 0/40 [00:00<?, ?it/s]"
      ]
     },
     "metadata": {},
     "output_type": "display_data"
    },
    {
     "name": "stdout",
     "output_type": "stream",
     "text": [
      "val Loss: 1.7408 Acc: 0.3604\n",
      "\n",
      "Epoch 2/30\n",
      "----------\n"
     ]
    },
    {
     "data": {
      "application/vnd.jupyter.widget-view+json": {
       "model_id": "3487f56f951a41648c0237bdbab93330",
       "version_major": 2,
       "version_minor": 0
      },
      "text/plain": [
       "train - Epoch 2/30:   0%|          | 0/352 [00:00<?, ?it/s]"
      ]
     },
     "metadata": {},
     "output_type": "display_data"
    },
    {
     "name": "stdout",
     "output_type": "stream",
     "text": [
      "train Loss: 1.6875 Acc: 0.3690\n"
     ]
    },
    {
     "data": {
      "application/vnd.jupyter.widget-view+json": {
       "model_id": "fa9dfff2df0a4b84aec2557b6f5fbf82",
       "version_major": 2,
       "version_minor": 0
      },
      "text/plain": [
       "val - Epoch 2/30:   0%|          | 0/40 [00:00<?, ?it/s]"
      ]
     },
     "metadata": {},
     "output_type": "display_data"
    },
    {
     "name": "stdout",
     "output_type": "stream",
     "text": [
      "val Loss: 1.6220 Acc: 0.3972\n",
      "\n",
      "Epoch 3/30\n",
      "----------\n"
     ]
    },
    {
     "data": {
      "application/vnd.jupyter.widget-view+json": {
       "model_id": "23859122f768438baa0f66eeb6108bbf",
       "version_major": 2,
       "version_minor": 0
      },
      "text/plain": [
       "train - Epoch 3/30:   0%|          | 0/352 [00:00<?, ?it/s]"
      ]
     },
     "metadata": {},
     "output_type": "display_data"
    },
    {
     "name": "stdout",
     "output_type": "stream",
     "text": [
      "train Loss: 1.6009 Acc: 0.4059\n"
     ]
    },
    {
     "data": {
      "application/vnd.jupyter.widget-view+json": {
       "model_id": "22625d37861b4a3d9707ca6c8e6d6f8f",
       "version_major": 2,
       "version_minor": 0
      },
      "text/plain": [
       "val - Epoch 3/30:   0%|          | 0/40 [00:00<?, ?it/s]"
      ]
     },
     "metadata": {},
     "output_type": "display_data"
    },
    {
     "name": "stdout",
     "output_type": "stream",
     "text": [
      "val Loss: 1.5587 Acc: 0.4222\n",
      "\n",
      "Epoch 4/30\n",
      "----------\n"
     ]
    },
    {
     "data": {
      "application/vnd.jupyter.widget-view+json": {
       "model_id": "884a10139d624fd1bb5b1bdbc980e29e",
       "version_major": 2,
       "version_minor": 0
      },
      "text/plain": [
       "train - Epoch 4/30:   0%|          | 0/352 [00:00<?, ?it/s]"
      ]
     },
     "metadata": {},
     "output_type": "display_data"
    },
    {
     "name": "stdout",
     "output_type": "stream",
     "text": [
      "train Loss: 1.5413 Acc: 0.4315\n"
     ]
    },
    {
     "data": {
      "application/vnd.jupyter.widget-view+json": {
       "model_id": "b1451121207b47a6a2f5e01face2a89e",
       "version_major": 2,
       "version_minor": 0
      },
      "text/plain": [
       "val - Epoch 4/30:   0%|          | 0/40 [00:00<?, ?it/s]"
      ]
     },
     "metadata": {},
     "output_type": "display_data"
    },
    {
     "name": "stdout",
     "output_type": "stream",
     "text": [
      "val Loss: 1.4852 Acc: 0.4554\n",
      "\n",
      "Epoch 5/30\n",
      "----------\n"
     ]
    },
    {
     "data": {
      "application/vnd.jupyter.widget-view+json": {
       "model_id": "3036f8505e204cd9bc96da3d4b0669ef",
       "version_major": 2,
       "version_minor": 0
      },
      "text/plain": [
       "train - Epoch 5/30:   0%|          | 0/352 [00:00<?, ?it/s]"
      ]
     },
     "metadata": {},
     "output_type": "display_data"
    },
    {
     "name": "stdout",
     "output_type": "stream",
     "text": [
      "train Loss: 1.4926 Acc: 0.4552\n"
     ]
    },
    {
     "data": {
      "application/vnd.jupyter.widget-view+json": {
       "model_id": "25384b02c5c641e78485a745765f6bb0",
       "version_major": 2,
       "version_minor": 0
      },
      "text/plain": [
       "val - Epoch 5/30:   0%|          | 0/40 [00:00<?, ?it/s]"
      ]
     },
     "metadata": {},
     "output_type": "display_data"
    },
    {
     "name": "stdout",
     "output_type": "stream",
     "text": [
      "val Loss: 1.4542 Acc: 0.4802\n",
      "\n",
      "Epoch 6/30\n",
      "----------\n"
     ]
    },
    {
     "data": {
      "application/vnd.jupyter.widget-view+json": {
       "model_id": "94a2b723051a4a7db4d662ed21c83fc0",
       "version_major": 2,
       "version_minor": 0
      },
      "text/plain": [
       "train - Epoch 6/30:   0%|          | 0/352 [00:00<?, ?it/s]"
      ]
     },
     "metadata": {},
     "output_type": "display_data"
    },
    {
     "name": "stdout",
     "output_type": "stream",
     "text": [
      "train Loss: 1.4459 Acc: 0.4763\n"
     ]
    },
    {
     "data": {
      "application/vnd.jupyter.widget-view+json": {
       "model_id": "a7b5cadff40f4be9882e90a0beed52b9",
       "version_major": 2,
       "version_minor": 0
      },
      "text/plain": [
       "val - Epoch 6/30:   0%|          | 0/40 [00:00<?, ?it/s]"
      ]
     },
     "metadata": {},
     "output_type": "display_data"
    },
    {
     "name": "stdout",
     "output_type": "stream",
     "text": [
      "val Loss: 1.3868 Acc: 0.5020\n",
      "\n",
      "Epoch 7/30\n",
      "----------\n"
     ]
    },
    {
     "data": {
      "application/vnd.jupyter.widget-view+json": {
       "model_id": "a78fe9ef3d9941acbc75b99bd62ddd87",
       "version_major": 2,
       "version_minor": 0
      },
      "text/plain": [
       "train - Epoch 7/30:   0%|          | 0/352 [00:00<?, ?it/s]"
      ]
     },
     "metadata": {},
     "output_type": "display_data"
    },
    {
     "name": "stdout",
     "output_type": "stream",
     "text": [
      "train Loss: 1.4065 Acc: 0.4910\n"
     ]
    },
    {
     "data": {
      "application/vnd.jupyter.widget-view+json": {
       "model_id": "3824a780f6f54ee98dd4d8615fec0a3f",
       "version_major": 2,
       "version_minor": 0
      },
      "text/plain": [
       "val - Epoch 7/30:   0%|          | 0/40 [00:00<?, ?it/s]"
      ]
     },
     "metadata": {},
     "output_type": "display_data"
    },
    {
     "name": "stdout",
     "output_type": "stream",
     "text": [
      "val Loss: 1.3549 Acc: 0.5108\n",
      "\n",
      "Epoch 8/30\n",
      "----------\n"
     ]
    },
    {
     "data": {
      "application/vnd.jupyter.widget-view+json": {
       "model_id": "c1968797e3544d41a2b966bfcd34d97f",
       "version_major": 2,
       "version_minor": 0
      },
      "text/plain": [
       "train - Epoch 8/30:   0%|          | 0/352 [00:00<?, ?it/s]"
      ]
     },
     "metadata": {},
     "output_type": "display_data"
    },
    {
     "name": "stdout",
     "output_type": "stream",
     "text": [
      "train Loss: 1.3677 Acc: 0.5120\n"
     ]
    },
    {
     "data": {
      "application/vnd.jupyter.widget-view+json": {
       "model_id": "dd64a0c31d17432ebd3bec643bca4d6f",
       "version_major": 2,
       "version_minor": 0
      },
      "text/plain": [
       "val - Epoch 8/30:   0%|          | 0/40 [00:00<?, ?it/s]"
      ]
     },
     "metadata": {},
     "output_type": "display_data"
    },
    {
     "name": "stdout",
     "output_type": "stream",
     "text": [
      "val Loss: 1.3061 Acc: 0.5330\n",
      "\n",
      "Epoch 9/30\n",
      "----------\n"
     ]
    },
    {
     "data": {
      "application/vnd.jupyter.widget-view+json": {
       "model_id": "4f5dbdad10644bc8a4c7c9c01633f793",
       "version_major": 2,
       "version_minor": 0
      },
      "text/plain": [
       "train - Epoch 9/30:   0%|          | 0/352 [00:00<?, ?it/s]"
      ]
     },
     "metadata": {},
     "output_type": "display_data"
    },
    {
     "name": "stdout",
     "output_type": "stream",
     "text": [
      "train Loss: 1.3518 Acc: 0.5139\n"
     ]
    },
    {
     "data": {
      "application/vnd.jupyter.widget-view+json": {
       "model_id": "1547afafa85d424b9223ca5c4615ffad",
       "version_major": 2,
       "version_minor": 0
      },
      "text/plain": [
       "val - Epoch 9/30:   0%|          | 0/40 [00:00<?, ?it/s]"
      ]
     },
     "metadata": {},
     "output_type": "display_data"
    },
    {
     "name": "stdout",
     "output_type": "stream",
     "text": [
      "val Loss: 1.2929 Acc: 0.5378\n",
      "\n",
      "Epoch 10/30\n",
      "----------\n"
     ]
    },
    {
     "data": {
      "application/vnd.jupyter.widget-view+json": {
       "model_id": "0e6665f9d85449878a875cefd8c52e89",
       "version_major": 2,
       "version_minor": 0
      },
      "text/plain": [
       "train - Epoch 10/30:   0%|          | 0/352 [00:00<?, ?it/s]"
      ]
     },
     "metadata": {},
     "output_type": "display_data"
    },
    {
     "name": "stdout",
     "output_type": "stream",
     "text": [
      "train Loss: 1.3458 Acc: 0.5174\n"
     ]
    },
    {
     "data": {
      "application/vnd.jupyter.widget-view+json": {
       "model_id": "a429dcde0c75474b9e045d53958489c1",
       "version_major": 2,
       "version_minor": 0
      },
      "text/plain": [
       "val - Epoch 10/30:   0%|          | 0/40 [00:00<?, ?it/s]"
      ]
     },
     "metadata": {},
     "output_type": "display_data"
    },
    {
     "name": "stdout",
     "output_type": "stream",
     "text": [
      "val Loss: 1.2936 Acc: 0.5412\n",
      "\n",
      "Epoch 11/30\n",
      "----------\n"
     ]
    },
    {
     "data": {
      "application/vnd.jupyter.widget-view+json": {
       "model_id": "fa2a876e885b4cba976136c8b8e2a295",
       "version_major": 2,
       "version_minor": 0
      },
      "text/plain": [
       "train - Epoch 11/30:   0%|          | 0/352 [00:00<?, ?it/s]"
      ]
     },
     "metadata": {},
     "output_type": "display_data"
    },
    {
     "name": "stdout",
     "output_type": "stream",
     "text": [
      "train Loss: 1.3421 Acc: 0.5226\n"
     ]
    },
    {
     "data": {
      "application/vnd.jupyter.widget-view+json": {
       "model_id": "6540e34c0cb548c69d454876386cfe2d",
       "version_major": 2,
       "version_minor": 0
      },
      "text/plain": [
       "val - Epoch 11/30:   0%|          | 0/40 [00:00<?, ?it/s]"
      ]
     },
     "metadata": {},
     "output_type": "display_data"
    },
    {
     "name": "stdout",
     "output_type": "stream",
     "text": [
      "val Loss: 1.2883 Acc: 0.5468\n",
      "\n",
      "Epoch 12/30\n",
      "----------\n"
     ]
    },
    {
     "data": {
      "application/vnd.jupyter.widget-view+json": {
       "model_id": "d72c52fa32f14ae88150a2cb130dd54c",
       "version_major": 2,
       "version_minor": 0
      },
      "text/plain": [
       "train - Epoch 12/30:   0%|          | 0/352 [00:00<?, ?it/s]"
      ]
     },
     "metadata": {},
     "output_type": "display_data"
    },
    {
     "name": "stdout",
     "output_type": "stream",
     "text": [
      "train Loss: 1.3362 Acc: 0.5220\n"
     ]
    },
    {
     "data": {
      "application/vnd.jupyter.widget-view+json": {
       "model_id": "b3c90441e57a41dc897224d0ebccc405",
       "version_major": 2,
       "version_minor": 0
      },
      "text/plain": [
       "val - Epoch 12/30:   0%|          | 0/40 [00:00<?, ?it/s]"
      ]
     },
     "metadata": {},
     "output_type": "display_data"
    },
    {
     "name": "stdout",
     "output_type": "stream",
     "text": [
      "val Loss: 1.2803 Acc: 0.5420\n",
      "\n",
      "Epoch 13/30\n",
      "----------\n"
     ]
    },
    {
     "data": {
      "application/vnd.jupyter.widget-view+json": {
       "model_id": "bf239ad6d4ba4ec4bf05f083def05087",
       "version_major": 2,
       "version_minor": 0
      },
      "text/plain": [
       "train - Epoch 13/30:   0%|          | 0/352 [00:00<?, ?it/s]"
      ]
     },
     "metadata": {},
     "output_type": "display_data"
    },
    {
     "name": "stdout",
     "output_type": "stream",
     "text": [
      "train Loss: 1.3315 Acc: 0.5242\n"
     ]
    },
    {
     "data": {
      "application/vnd.jupyter.widget-view+json": {
       "model_id": "8076d2ff4b714441b0315edc652bd599",
       "version_major": 2,
       "version_minor": 0
      },
      "text/plain": [
       "val - Epoch 13/30:   0%|          | 0/40 [00:00<?, ?it/s]"
      ]
     },
     "metadata": {},
     "output_type": "display_data"
    },
    {
     "name": "stdout",
     "output_type": "stream",
     "text": [
      "val Loss: 1.2797 Acc: 0.5430\n",
      "\n",
      "Epoch 14/30\n",
      "----------\n"
     ]
    },
    {
     "data": {
      "application/vnd.jupyter.widget-view+json": {
       "model_id": "45793d8fb5df4ff7acc178918335df91",
       "version_major": 2,
       "version_minor": 0
      },
      "text/plain": [
       "train - Epoch 14/30:   0%|          | 0/352 [00:00<?, ?it/s]"
      ]
     },
     "metadata": {},
     "output_type": "display_data"
    },
    {
     "name": "stdout",
     "output_type": "stream",
     "text": [
      "train Loss: 1.3301 Acc: 0.5268\n"
     ]
    },
    {
     "data": {
      "application/vnd.jupyter.widget-view+json": {
       "model_id": "203bf645b3b14e348a9c11f6bffdfabd",
       "version_major": 2,
       "version_minor": 0
      },
      "text/plain": [
       "val - Epoch 14/30:   0%|          | 0/40 [00:00<?, ?it/s]"
      ]
     },
     "metadata": {},
     "output_type": "display_data"
    },
    {
     "name": "stdout",
     "output_type": "stream",
     "text": [
      "val Loss: 1.2763 Acc: 0.5466\n",
      "\n",
      "Epoch 15/30\n",
      "----------\n"
     ]
    },
    {
     "data": {
      "application/vnd.jupyter.widget-view+json": {
       "model_id": "a2ede8611d7d4539bb59a01025eb7323",
       "version_major": 2,
       "version_minor": 0
      },
      "text/plain": [
       "train - Epoch 15/30:   0%|          | 0/352 [00:00<?, ?it/s]"
      ]
     },
     "metadata": {},
     "output_type": "display_data"
    },
    {
     "name": "stdout",
     "output_type": "stream",
     "text": [
      "train Loss: 1.3242 Acc: 0.5259\n"
     ]
    },
    {
     "data": {
      "application/vnd.jupyter.widget-view+json": {
       "model_id": "57f22e2f3b4c483eaeef0f7c2e252425",
       "version_major": 2,
       "version_minor": 0
      },
      "text/plain": [
       "val - Epoch 15/30:   0%|          | 0/40 [00:00<?, ?it/s]"
      ]
     },
     "metadata": {},
     "output_type": "display_data"
    },
    {
     "name": "stdout",
     "output_type": "stream",
     "text": [
      "val Loss: 1.2731 Acc: 0.5496\n",
      "\n",
      "Epoch 16/30\n",
      "----------\n"
     ]
    },
    {
     "data": {
      "application/vnd.jupyter.widget-view+json": {
       "model_id": "d6150ea7776745bb856abe7f393db582",
       "version_major": 2,
       "version_minor": 0
      },
      "text/plain": [
       "train - Epoch 16/30:   0%|          | 0/352 [00:00<?, ?it/s]"
      ]
     },
     "metadata": {},
     "output_type": "display_data"
    },
    {
     "name": "stdout",
     "output_type": "stream",
     "text": [
      "train Loss: 1.3201 Acc: 0.5272\n"
     ]
    },
    {
     "data": {
      "application/vnd.jupyter.widget-view+json": {
       "model_id": "234e6d1679274a23b5aaf61737ef8fbd",
       "version_major": 2,
       "version_minor": 0
      },
      "text/plain": [
       "val - Epoch 16/30:   0%|          | 0/40 [00:00<?, ?it/s]"
      ]
     },
     "metadata": {},
     "output_type": "display_data"
    },
    {
     "name": "stdout",
     "output_type": "stream",
     "text": [
      "val Loss: 1.2784 Acc: 0.5384\n",
      "\n",
      "Epoch 17/30\n",
      "----------\n"
     ]
    },
    {
     "data": {
      "application/vnd.jupyter.widget-view+json": {
       "model_id": "1e29eed106ce455eb5eecca4a3f2ff1e",
       "version_major": 2,
       "version_minor": 0
      },
      "text/plain": [
       "train - Epoch 17/30:   0%|          | 0/352 [00:00<?, ?it/s]"
      ]
     },
     "metadata": {},
     "output_type": "display_data"
    },
    {
     "name": "stdout",
     "output_type": "stream",
     "text": [
      "train Loss: 1.3190 Acc: 0.5272\n"
     ]
    },
    {
     "data": {
      "application/vnd.jupyter.widget-view+json": {
       "model_id": "196a694eae0245a1aa723b4d6083038c",
       "version_major": 2,
       "version_minor": 0
      },
      "text/plain": [
       "val - Epoch 17/30:   0%|          | 0/40 [00:00<?, ?it/s]"
      ]
     },
     "metadata": {},
     "output_type": "display_data"
    },
    {
     "name": "stdout",
     "output_type": "stream",
     "text": [
      "val Loss: 1.2677 Acc: 0.5478\n",
      "\n",
      "Epoch 18/30\n",
      "----------\n"
     ]
    },
    {
     "data": {
      "application/vnd.jupyter.widget-view+json": {
       "model_id": "4e339587baac4c1d8556c86a50770216",
       "version_major": 2,
       "version_minor": 0
      },
      "text/plain": [
       "train - Epoch 18/30:   0%|          | 0/352 [00:00<?, ?it/s]"
      ]
     },
     "metadata": {},
     "output_type": "display_data"
    },
    {
     "name": "stdout",
     "output_type": "stream",
     "text": [
      "train Loss: 1.3167 Acc: 0.5294\n"
     ]
    },
    {
     "data": {
      "application/vnd.jupyter.widget-view+json": {
       "model_id": "e5b5e0b9f9cf4631b006babb9e91a34c",
       "version_major": 2,
       "version_minor": 0
      },
      "text/plain": [
       "val - Epoch 18/30:   0%|          | 0/40 [00:00<?, ?it/s]"
      ]
     },
     "metadata": {},
     "output_type": "display_data"
    },
    {
     "name": "stdout",
     "output_type": "stream",
     "text": [
      "val Loss: 1.2696 Acc: 0.5446\n",
      "\n",
      "Epoch 19/30\n",
      "----------\n"
     ]
    },
    {
     "data": {
      "application/vnd.jupyter.widget-view+json": {
       "model_id": "70543b7a96ff48289dc9f9412ee77c48",
       "version_major": 2,
       "version_minor": 0
      },
      "text/plain": [
       "train - Epoch 19/30:   0%|          | 0/352 [00:00<?, ?it/s]"
      ]
     },
     "metadata": {},
     "output_type": "display_data"
    },
    {
     "name": "stdout",
     "output_type": "stream",
     "text": [
      "train Loss: 1.3232 Acc: 0.5280\n"
     ]
    },
    {
     "data": {
      "application/vnd.jupyter.widget-view+json": {
       "model_id": "015b9edd6cd5421588aaf1e7d1c76fef",
       "version_major": 2,
       "version_minor": 0
      },
      "text/plain": [
       "val - Epoch 19/30:   0%|          | 0/40 [00:00<?, ?it/s]"
      ]
     },
     "metadata": {},
     "output_type": "display_data"
    },
    {
     "name": "stdout",
     "output_type": "stream",
     "text": [
      "val Loss: 1.2719 Acc: 0.5512\n",
      "\n",
      "Epoch 20/30\n",
      "----------\n"
     ]
    },
    {
     "data": {
      "application/vnd.jupyter.widget-view+json": {
       "model_id": "4d0ce21a58c14bc1af2128a185c14f83",
       "version_major": 2,
       "version_minor": 0
      },
      "text/plain": [
       "train - Epoch 20/30:   0%|          | 0/352 [00:00<?, ?it/s]"
      ]
     },
     "metadata": {},
     "output_type": "display_data"
    },
    {
     "name": "stdout",
     "output_type": "stream",
     "text": [
      "train Loss: 1.3164 Acc: 0.5311\n"
     ]
    },
    {
     "data": {
      "application/vnd.jupyter.widget-view+json": {
       "model_id": "e268149cec584f0eabcb7a9563a1b911",
       "version_major": 2,
       "version_minor": 0
      },
      "text/plain": [
       "val - Epoch 20/30:   0%|          | 0/40 [00:00<?, ?it/s]"
      ]
     },
     "metadata": {},
     "output_type": "display_data"
    },
    {
     "name": "stdout",
     "output_type": "stream",
     "text": [
      "val Loss: 1.2667 Acc: 0.5546\n",
      "\n",
      "Epoch 21/30\n",
      "----------\n"
     ]
    },
    {
     "data": {
      "application/vnd.jupyter.widget-view+json": {
       "model_id": "64e6d7a3a9d7480bb4b50b20c7b39eb4",
       "version_major": 2,
       "version_minor": 0
      },
      "text/plain": [
       "train - Epoch 21/30:   0%|          | 0/352 [00:00<?, ?it/s]"
      ]
     },
     "metadata": {},
     "output_type": "display_data"
    },
    {
     "name": "stdout",
     "output_type": "stream",
     "text": [
      "train Loss: 1.3225 Acc: 0.5266\n"
     ]
    },
    {
     "data": {
      "application/vnd.jupyter.widget-view+json": {
       "model_id": "681ff7e5f5e8499aa94e63f5fd3e9158",
       "version_major": 2,
       "version_minor": 0
      },
      "text/plain": [
       "val - Epoch 21/30:   0%|          | 0/40 [00:00<?, ?it/s]"
      ]
     },
     "metadata": {},
     "output_type": "display_data"
    },
    {
     "name": "stdout",
     "output_type": "stream",
     "text": [
      "val Loss: 1.2704 Acc: 0.5502\n",
      "\n",
      "Epoch 22/30\n",
      "----------\n"
     ]
    },
    {
     "data": {
      "application/vnd.jupyter.widget-view+json": {
       "model_id": "2cdd76b7bb11468e8f44fb29f311bdc4",
       "version_major": 2,
       "version_minor": 0
      },
      "text/plain": [
       "train - Epoch 22/30:   0%|          | 0/352 [00:00<?, ?it/s]"
      ]
     },
     "metadata": {},
     "output_type": "display_data"
    },
    {
     "name": "stdout",
     "output_type": "stream",
     "text": [
      "train Loss: 1.3143 Acc: 0.5300\n"
     ]
    },
    {
     "data": {
      "application/vnd.jupyter.widget-view+json": {
       "model_id": "e35ac7c7e1aa4b609a695dab68b36669",
       "version_major": 2,
       "version_minor": 0
      },
      "text/plain": [
       "val - Epoch 22/30:   0%|          | 0/40 [00:00<?, ?it/s]"
      ]
     },
     "metadata": {},
     "output_type": "display_data"
    },
    {
     "name": "stdout",
     "output_type": "stream",
     "text": [
      "val Loss: 1.2648 Acc: 0.5482\n",
      "\n",
      "Epoch 23/30\n",
      "----------\n"
     ]
    },
    {
     "data": {
      "application/vnd.jupyter.widget-view+json": {
       "model_id": "40840383d8c4446998d31774d77f7811",
       "version_major": 2,
       "version_minor": 0
      },
      "text/plain": [
       "train - Epoch 23/30:   0%|          | 0/352 [00:00<?, ?it/s]"
      ]
     },
     "metadata": {},
     "output_type": "display_data"
    },
    {
     "name": "stdout",
     "output_type": "stream",
     "text": [
      "train Loss: 1.3169 Acc: 0.5307\n"
     ]
    },
    {
     "data": {
      "application/vnd.jupyter.widget-view+json": {
       "model_id": "5101b878a84245d9aa4b93c545ffa320",
       "version_major": 2,
       "version_minor": 0
      },
      "text/plain": [
       "val - Epoch 23/30:   0%|          | 0/40 [00:00<?, ?it/s]"
      ]
     },
     "metadata": {},
     "output_type": "display_data"
    },
    {
     "name": "stdout",
     "output_type": "stream",
     "text": [
      "val Loss: 1.2707 Acc: 0.5500\n",
      "\n",
      "Epoch 24/30\n",
      "----------\n"
     ]
    },
    {
     "data": {
      "application/vnd.jupyter.widget-view+json": {
       "model_id": "13a4085b37f2430f94aa1b1a4f48ca5c",
       "version_major": 2,
       "version_minor": 0
      },
      "text/plain": [
       "train - Epoch 24/30:   0%|          | 0/352 [00:00<?, ?it/s]"
      ]
     },
     "metadata": {},
     "output_type": "display_data"
    },
    {
     "name": "stdout",
     "output_type": "stream",
     "text": [
      "train Loss: 1.3181 Acc: 0.5300\n"
     ]
    },
    {
     "data": {
      "application/vnd.jupyter.widget-view+json": {
       "model_id": "0af0196a90844e0b9eeacd6357c57844",
       "version_major": 2,
       "version_minor": 0
      },
      "text/plain": [
       "val - Epoch 24/30:   0%|          | 0/40 [00:00<?, ?it/s]"
      ]
     },
     "metadata": {},
     "output_type": "display_data"
    },
    {
     "name": "stdout",
     "output_type": "stream",
     "text": [
      "val Loss: 1.2669 Acc: 0.5482\n",
      "\n",
      "Epoch 25/30\n",
      "----------\n"
     ]
    },
    {
     "data": {
      "application/vnd.jupyter.widget-view+json": {
       "model_id": "916b3f7b378a43cfa89392564a228d48",
       "version_major": 2,
       "version_minor": 0
      },
      "text/plain": [
       "train - Epoch 25/30:   0%|          | 0/352 [00:00<?, ?it/s]"
      ]
     },
     "metadata": {},
     "output_type": "display_data"
    },
    {
     "name": "stdout",
     "output_type": "stream",
     "text": [
      "train Loss: 1.3193 Acc: 0.5295\n"
     ]
    },
    {
     "data": {
      "application/vnd.jupyter.widget-view+json": {
       "model_id": "89b8178cde8a4d3c9a36764ffdafe47a",
       "version_major": 2,
       "version_minor": 0
      },
      "text/plain": [
       "val - Epoch 25/30:   0%|          | 0/40 [00:00<?, ?it/s]"
      ]
     },
     "metadata": {},
     "output_type": "display_data"
    },
    {
     "name": "stdout",
     "output_type": "stream",
     "text": [
      "val Loss: 1.2658 Acc: 0.5520\n",
      "\n",
      "Epoch 26/30\n",
      "----------\n"
     ]
    },
    {
     "data": {
      "application/vnd.jupyter.widget-view+json": {
       "model_id": "08fdb8f74a1b4d979e68fabf4d7a8aca",
       "version_major": 2,
       "version_minor": 0
      },
      "text/plain": [
       "train - Epoch 26/30:   0%|          | 0/352 [00:00<?, ?it/s]"
      ]
     },
     "metadata": {},
     "output_type": "display_data"
    },
    {
     "name": "stdout",
     "output_type": "stream",
     "text": [
      "train Loss: 1.3153 Acc: 0.5324\n"
     ]
    },
    {
     "data": {
      "application/vnd.jupyter.widget-view+json": {
       "model_id": "498867a911ed4f029008bc51c7f3d022",
       "version_major": 2,
       "version_minor": 0
      },
      "text/plain": [
       "val - Epoch 26/30:   0%|          | 0/40 [00:00<?, ?it/s]"
      ]
     },
     "metadata": {},
     "output_type": "display_data"
    },
    {
     "name": "stdout",
     "output_type": "stream",
     "text": [
      "val Loss: 1.2673 Acc: 0.5490\n",
      "\n",
      "Epoch 27/30\n",
      "----------\n"
     ]
    },
    {
     "data": {
      "application/vnd.jupyter.widget-view+json": {
       "model_id": "e6fe18b61020463eb4dec29b5b65909e",
       "version_major": 2,
       "version_minor": 0
      },
      "text/plain": [
       "train - Epoch 27/30:   0%|          | 0/352 [00:00<?, ?it/s]"
      ]
     },
     "metadata": {},
     "output_type": "display_data"
    },
    {
     "name": "stdout",
     "output_type": "stream",
     "text": [
      "train Loss: 1.3182 Acc: 0.5303\n"
     ]
    },
    {
     "data": {
      "application/vnd.jupyter.widget-view+json": {
       "model_id": "1ee162deb59b48f6b33766343aade735",
       "version_major": 2,
       "version_minor": 0
      },
      "text/plain": [
       "val - Epoch 27/30:   0%|          | 0/40 [00:00<?, ?it/s]"
      ]
     },
     "metadata": {},
     "output_type": "display_data"
    },
    {
     "name": "stdout",
     "output_type": "stream",
     "text": [
      "val Loss: 1.2694 Acc: 0.5480\n",
      "\n",
      "Epoch 28/30\n",
      "----------\n"
     ]
    },
    {
     "data": {
      "application/vnd.jupyter.widget-view+json": {
       "model_id": "0e412541770947c2b1871230e11d0ac2",
       "version_major": 2,
       "version_minor": 0
      },
      "text/plain": [
       "train - Epoch 28/30:   0%|          | 0/352 [00:00<?, ?it/s]"
      ]
     },
     "metadata": {},
     "output_type": "display_data"
    },
    {
     "name": "stdout",
     "output_type": "stream",
     "text": [
      "train Loss: 1.3144 Acc: 0.5318\n"
     ]
    },
    {
     "data": {
      "application/vnd.jupyter.widget-view+json": {
       "model_id": "d264ed24d7ea430ebb9c54772f2df6f8",
       "version_major": 2,
       "version_minor": 0
      },
      "text/plain": [
       "val - Epoch 28/30:   0%|          | 0/40 [00:00<?, ?it/s]"
      ]
     },
     "metadata": {},
     "output_type": "display_data"
    },
    {
     "name": "stdout",
     "output_type": "stream",
     "text": [
      "val Loss: 1.2693 Acc: 0.5510\n",
      "\n",
      "Epoch 29/30\n",
      "----------\n"
     ]
    },
    {
     "data": {
      "application/vnd.jupyter.widget-view+json": {
       "model_id": "c3ad6a886eb647de9e738a01441d50d8",
       "version_major": 2,
       "version_minor": 0
      },
      "text/plain": [
       "train - Epoch 29/30:   0%|          | 0/352 [00:00<?, ?it/s]"
      ]
     },
     "metadata": {},
     "output_type": "display_data"
    },
    {
     "name": "stdout",
     "output_type": "stream",
     "text": [
      "train Loss: 1.3176 Acc: 0.5290\n"
     ]
    },
    {
     "data": {
      "application/vnd.jupyter.widget-view+json": {
       "model_id": "db204ae4b48a45d18a98b91fc5b047df",
       "version_major": 2,
       "version_minor": 0
      },
      "text/plain": [
       "val - Epoch 29/30:   0%|          | 0/40 [00:00<?, ?it/s]"
      ]
     },
     "metadata": {},
     "output_type": "display_data"
    },
    {
     "name": "stdout",
     "output_type": "stream",
     "text": [
      "val Loss: 1.2653 Acc: 0.5488\n",
      "\n",
      "Epoch 30/30\n",
      "----------\n"
     ]
    },
    {
     "data": {
      "application/vnd.jupyter.widget-view+json": {
       "model_id": "24dd90adee364973a791a68db85731f4",
       "version_major": 2,
       "version_minor": 0
      },
      "text/plain": [
       "train - Epoch 30/30:   0%|          | 0/352 [00:00<?, ?it/s]"
      ]
     },
     "metadata": {},
     "output_type": "display_data"
    },
    {
     "name": "stdout",
     "output_type": "stream",
     "text": [
      "train Loss: 1.3153 Acc: 0.5302\n"
     ]
    },
    {
     "data": {
      "application/vnd.jupyter.widget-view+json": {
       "model_id": "d81b02fce4054ba2957ef8a61ffcd47d",
       "version_major": 2,
       "version_minor": 0
      },
      "text/plain": [
       "val - Epoch 30/30:   0%|          | 0/40 [00:00<?, ?it/s]"
      ]
     },
     "metadata": {},
     "output_type": "display_data"
    },
    {
     "name": "stdout",
     "output_type": "stream",
     "text": [
      "val Loss: 1.2703 Acc: 0.5468\n",
      "\n",
      "Training complete in 20m 37s\n",
      "Best val Acc: 0.5546\n"
     ]
    },
    {
     "data": {
      "image/png": "[encoded data removed]",
      "text/plain": [
       "<Figure size 1500x500 with 2 Axes>"
      ]
     },
     "metadata": {},
     "output_type": "display_data"
    },
    {
     "name": "stdout",
     "output_type": "stream",
     "text": [
      "Training history plot saved to ./results/customcnn_on_cifar10_history.png\n"
     ]
    },
    {
     "data": {
      "application/vnd.jupyter.widget-view+json": {
       "model_id": "9a3c2efd56174491a7c9c0946e3a319d",
       "version_major": 2,
       "version_minor": 0
      },
      "text/plain": [
       "Evaluating on cifar10:   0%|          | 0/79 [00:00<?, ?it/s]"
      ]
     },
     "metadata": {},
     "output_type": "display_data"
    },
    {
     "name": "stdout",
     "output_type": "stream",
     "text": [
      "Test Loss: 1.2497 Acc: 0.5466\n"
     ]
    },
    {
     "data": {
      "image/png": "[encoded data removed]",
      "text/plain": [
       "<Figure size 1000x800 with 2 Axes>"
      ]
     },
     "metadata": {},
     "output_type": "display_data"
    },
    {
     "name": "stdout",
     "output_type": "stream",
     "text": [
      "Confusion matrix plot saved to ./results/customcnn_on_cifar10_confusion_matrix.png\n",
      "Classification report saved to ./results/customcnn_on_cifar10_classification_report.csv\n",
      "\n",
      "Classification Report:\n"
     ]
    },
    {
     "data": {
      "text/html": [
       "<div>\n",
       "<style scoped>\n",
       "    .dataframe tbody tr th:only-of-type {\n",
       "        vertical-align: middle;\n",
       "    }\n",
       "\n",
       "    .dataframe tbody tr th {\n",
       "        vertical-align: top;\n",
       "    }\n",
       "\n",
       "    .dataframe thead th {\n",
       "        text-align: right;\n",
       "    }\n",
       "</style>\n",
       "<table border=\"1\" class=\"dataframe\">\n",
       "  <thead>\n",
       "    <tr style=\"text-align: right;\">\n",
       "      <th></th>\n",
       "      <th>precision</th>\n",
       "      <th>recall</th>\n",
       "      <th>f1-score</th>\n",
       "      <th>support</th>\n",
       "    </tr>\n",
       "  </thead>\n",
       "  <tbody>\n",
       "    <tr>\n",
       "      <th>plane</th>\n",
       "      <td>0.568851</td>\n",
       "      <td>0.5990</td>\n",
       "      <td>0.583536</td>\n",
       "      <td>1000.0000</td>\n",
       "    </tr>\n",
       "    <tr>\n",
       "      <th>car</th>\n",
       "      <td>0.649410</td>\n",
       "      <td>0.7150</td>\n",
       "      <td>0.680628</td>\n",
       "      <td>1000.0000</td>\n",
       "    </tr>\n",
       "    <tr>\n",
       "      <th>bird</th>\n",
       "      <td>0.413223</td>\n",
       "      <td>0.4000</td>\n",
       "      <td>0.406504</td>\n",
       "      <td>1000.0000</td>\n",
       "    </tr>\n",
       "    <tr>\n",
       "      <th>cat</th>\n",
       "      <td>0.359086</td>\n",
       "      <td>0.3300</td>\n",
       "      <td>0.343929</td>\n",
       "      <td>1000.0000</td>\n",
       "    </tr>\n",
       "    <tr>\n",
       "      <th>deer</th>\n",
       "      <td>0.564829</td>\n",
       "      <td>0.3790</td>\n",
       "      <td>0.453621</td>\n",
       "      <td>1000.0000</td>\n",
       "    </tr>\n",
       "    <tr>\n",
       "      <th>dog</th>\n",
       "      <td>0.443134</td>\n",
       "      <td>0.5260</td>\n",
       "      <td>0.481024</td>\n",
       "      <td>1000.0000</td>\n",
       "    </tr>\n",
       "    <tr>\n",
       "      <th>frog</th>\n",
       "      <td>0.517913</td>\n",
       "      <td>0.6650</td>\n",
       "      <td>0.582312</td>\n",
       "      <td>1000.0000</td>\n",
       "    </tr>\n",
       "    <tr>\n",
       "      <th>horse</th>\n",
       "      <td>0.665904</td>\n",
       "      <td>0.5820</td>\n",
       "      <td>0.621131</td>\n",
       "      <td>1000.0000</td>\n",
       "    </tr>\n",
       "    <tr>\n",
       "      <th>ship</th>\n",
       "      <td>0.659381</td>\n",
       "      <td>0.7240</td>\n",
       "      <td>0.690181</td>\n",
       "      <td>1000.0000</td>\n",
       "    </tr>\n",
       "    <tr>\n",
       "      <th>truck</th>\n",
       "      <td>0.646154</td>\n",
       "      <td>0.5460</td>\n",
       "      <td>0.591870</td>\n",
       "      <td>1000.0000</td>\n",
       "    </tr>\n",
       "    <tr>\n",
       "      <th>accuracy</th>\n",
       "      <td>0.546600</td>\n",
       "      <td>0.5466</td>\n",
       "      <td>0.546600</td>\n",
       "      <td>0.5466</td>\n",
       "    </tr>\n",
       "    <tr>\n",
       "      <th>macro avg</th>\n",
       "      <td>0.548788</td>\n",
       "      <td>0.5466</td>\n",
       "      <td>0.543474</td>\n",
       "      <td>10000.0000</td>\n",
       "    </tr>\n",
       "    <tr>\n",
       "      <th>weighted avg</th>\n",
       "      <td>0.548788</td>\n",
       "      <td>0.5466</td>\n",
       "      <td>0.543474</td>\n",
       "      <td>10000.0000</td>\n",
       "    </tr>\n",
       "  </tbody>\n",
       "</table>\n",
       "</div>"
      ],
      "text/plain": [
       "              precision  recall  f1-score     support\n",
       "plane          0.568851  0.5990  0.583536   1000.0000\n",
       "car            0.649410  0.7150  0.680628   1000.0000\n",
       "bird           0.413223  0.4000  0.406504   1000.0000\n",
       "cat            0.359086  0.3300  0.343929   1000.0000\n",
       "deer           0.564829  0.3790  0.453621   1000.0000\n",
       "dog            0.443134  0.5260  0.481024   1000.0000\n",
       "frog           0.517913  0.6650  0.582312   1000.0000\n",
       "horse          0.665904  0.5820  0.621131   1000.0000\n",
       "ship           0.659381  0.7240  0.690181   1000.0000\n",
       "truck          0.646154  0.5460  0.591870   1000.0000\n",
       "accuracy       0.546600  0.5466  0.546600      0.5466\n",
       "macro avg      0.548788  0.5466  0.543474  10000.0000\n",
       "weighted avg   0.548788  0.5466  0.543474  10000.0000"
      ]
     },
     "metadata": {},
     "output_type": "display_data"
    },
    {
     "data": {
      "image/png": "[encoded data removed]",
      "text/plain": [
       "<Figure size 1500x600 with 2 Axes>"
      ]
     },
     "metadata": {},
     "output_type": "display_data"
    },
    {
     "name": "stdout",
     "output_type": "stream",
     "text": [
      "Model comparison plot saved to ./results/Model_Comparison_on_cifar10_comparison.png\n",
      "\n",
      "==================================================\n",
      "Processing dataset: svhn\n",
      "==================================================\n",
      "Dataset: SVHN\n",
      "Number of training samples: 65932\n",
      "Number of validation samples: 7325\n",
      "Number of testing samples: 26032\n"
     ]
    },
    {
     "data": {
      "image/png": "[encoded data removed]",
      "text/plain": [
       "<Figure size 1500x1000 with 5 Axes>"
      ]
     },
     "metadata": {},
     "output_type": "display_data"
    },
    {
     "name": "stdout",
     "output_type": "stream",
     "text": [
      "Showing 5 sample images from dataset\n",
      "\n",
      "----------------------------------------\n",
      "Training customcnn on svhn\n",
      "----------------------------------------\n",
      "Model: customcnn\n",
      "Number of parameters: 33482\n",
      "Epoch 1/30\n",
      "----------\n"
     ]
    },
    {
     "data": {
      "application/vnd.jupyter.widget-view+json": {
       "model_id": "77d6f89da4534832b975db62bd7a98a7",
       "version_major": 2,
       "version_minor": 0
      },
      "text/plain": [
       "train - Epoch 1/30:   0%|          | 0/516 [00:00<?, ?it/s]"
      ]
     },
     "metadata": {},
     "output_type": "display_data"
    },
    {
     "name": "stdout",
     "output_type": "stream",
     "text": [
      "train Loss: 2.2014 Acc: 0.2100\n"
     ]
    },
    {
     "data": {
      "application/vnd.jupyter.widget-view+json": {
       "model_id": "3460224590c54d839e170b154fc3606b",
       "version_major": 2,
       "version_minor": 0
      },
      "text/plain": [
       "val - Epoch 1/30:   0%|          | 0/58 [00:00<?, ?it/s]"
      ]
     },
     "metadata": {},
     "output_type": "display_data"
    },
    {
     "name": "stdout",
     "output_type": "stream",
     "text": [
      "val Loss: 2.0902 Acc: 0.2598\n",
      "\n",
      "Epoch 2/30\n",
      "----------\n"
     ]
    },
    {
     "data": {
      "application/vnd.jupyter.widget-view+json": {
       "model_id": "8f3d6cf62c6649d29cb35cb6c1379f13",
       "version_major": 2,
       "version_minor": 0
      },
      "text/plain": [
       "train - Epoch 2/30:   0%|          | 0/516 [00:00<?, ?it/s]"
      ]
     },
     "metadata": {},
     "output_type": "display_data"
    },
    {
     "name": "stdout",
     "output_type": "stream",
     "text": [
      "train Loss: 1.9784 Acc: 0.2941\n"
     ]
    },
    {
     "data": {
      "application/vnd.jupyter.widget-view+json": {
       "model_id": "986fbb87a9834b20b8b2c847f6cd834a",
       "version_major": 2,
       "version_minor": 0
      },
      "text/plain": [
       "val - Epoch 2/30:   0%|          | 0/58 [00:00<?, ?it/s]"
      ]
     },
     "metadata": {},
     "output_type": "display_data"
    },
    {
     "name": "stdout",
     "output_type": "stream",
     "text": [
      "val Loss: 1.8980 Acc: 0.3286\n",
      "\n",
      "Epoch 3/30\n",
      "----------\n"
     ]
    },
    {
     "data": {
      "application/vnd.jupyter.widget-view+json": {
       "model_id": "e7f076833372463f880837a4cf656101",
       "version_major": 2,
       "version_minor": 0
      },
      "text/plain": [
       "train - Epoch 3/30:   0%|          | 0/516 [00:00<?, ?it/s]"
      ]
     },
     "metadata": {},
     "output_type": "display_data"
    },
    {
     "name": "stdout",
     "output_type": "stream",
     "text": [
      "train Loss: 1.8215 Acc: 0.3597\n"
     ]
    },
    {
     "data": {
      "application/vnd.jupyter.widget-view+json": {
       "model_id": "54747687f75c47cd8bc97ed96b160d71",
       "version_major": 2,
       "version_minor": 0
      },
      "text/plain": [
       "val - Epoch 3/30:   0%|          | 0/58 [00:00<?, ?it/s]"
      ]
     },
     "metadata": {},
     "output_type": "display_data"
    },
    {
     "name": "stdout",
     "output_type": "stream",
     "text": [
      "val Loss: 1.7840 Acc: 0.3773\n",
      "\n",
      "Epoch 4/30\n",
      "----------\n"
     ]
    },
    {
     "data": {
      "application/vnd.jupyter.widget-view+json": {
       "model_id": "26b821d63ab9406a942517508b6acc38",
       "version_major": 2,
       "version_minor": 0
      },
      "text/plain": [
       "train - Epoch 4/30:   0%|          | 0/516 [00:00<?, ?it/s]"
      ]
     },
     "metadata": {},
     "output_type": "display_data"
    },
    {
     "name": "stdout",
     "output_type": "stream",
     "text": [
      "train Loss: 1.6727 Acc: 0.4271\n"
     ]
    },
    {
     "data": {
      "application/vnd.jupyter.widget-view+json": {
       "model_id": "1aa3de50fd0b4946bdc151f4d74faf13",
       "version_major": 2,
       "version_minor": 0
      },
      "text/plain": [
       "val - Epoch 4/30:   0%|          | 0/58 [00:00<?, ?it/s]"
      ]
     },
     "metadata": {},
     "output_type": "display_data"
    },
    {
     "name": "stdout",
     "output_type": "stream",
     "text": [
      "val Loss: 1.6430 Acc: 0.4408\n",
      "\n",
      "Epoch 5/30\n",
      "----------\n"
     ]
    },
    {
     "data": {
      "application/vnd.jupyter.widget-view+json": {
       "model_id": "f727a6cb08554189b49f1c5ca3213313",
       "version_major": 2,
       "version_minor": 0
      },
      "text/plain": [
       "train - Epoch 5/30:   0%|          | 0/516 [00:00<?, ?it/s]"
      ]
     },
     "metadata": {},
     "output_type": "display_data"
    },
    {
     "name": "stdout",
     "output_type": "stream",
     "text": [
      "train Loss: 1.5130 Acc: 0.4918\n"
     ]
    },
    {
     "data": {
      "application/vnd.jupyter.widget-view+json": {
       "model_id": "213431f10c054d56940ec461a5eacd03",
       "version_major": 2,
       "version_minor": 0
      },
      "text/plain": [
       "val - Epoch 5/30:   0%|          | 0/58 [00:00<?, ?it/s]"
      ]
     },
     "metadata": {},
     "output_type": "display_data"
    },
    {
     "name": "stdout",
     "output_type": "stream",
     "text": [
      "val Loss: 1.3930 Acc: 0.5458\n",
      "\n",
      "Epoch 6/30\n",
      "----------\n"
     ]
    },
    {
     "data": {
      "application/vnd.jupyter.widget-view+json": {
       "model_id": "c0835ef75bd947e28f0e89cbac25afc9",
       "version_major": 2,
       "version_minor": 0
      },
      "text/plain": [
       "train - Epoch 6/30:   0%|          | 0/516 [00:00<?, ?it/s]"
      ]
     },
     "metadata": {},
     "output_type": "display_data"
    },
    {
     "name": "stdout",
     "output_type": "stream",
     "text": [
      "train Loss: 1.3777 Acc: 0.5447\n"
     ]
    },
    {
     "data": {
      "application/vnd.jupyter.widget-view+json": {
       "model_id": "e9758554792b457babd1224accc6bfb0",
       "version_major": 2,
       "version_minor": 0
      },
      "text/plain": [
       "val - Epoch 6/30:   0%|          | 0/58 [00:00<?, ?it/s]"
      ]
     },
     "metadata": {},
     "output_type": "display_data"
    },
    {
     "name": "stdout",
     "output_type": "stream",
     "text": [
      "val Loss: 1.3012 Acc: 0.5732\n",
      "\n",
      "Epoch 7/30\n",
      "----------\n"
     ]
    },
    {
     "data": {
      "application/vnd.jupyter.widget-view+json": {
       "model_id": "2c44ff4b9f7946f68fd434334859d67a",
       "version_major": 2,
       "version_minor": 0
      },
      "text/plain": [
       "train - Epoch 7/30:   0%|          | 0/516 [00:00<?, ?it/s]"
      ]
     },
     "metadata": {},
     "output_type": "display_data"
    },
    {
     "name": "stdout",
     "output_type": "stream",
     "text": [
      "train Loss: 1.2776 Acc: 0.5832\n"
     ]
    },
    {
     "data": {
      "application/vnd.jupyter.widget-view+json": {
       "model_id": "06cf250862814013b27786f629c82af3",
       "version_major": 2,
       "version_minor": 0
      },
      "text/plain": [
       "val - Epoch 7/30:   0%|          | 0/58 [00:00<?, ?it/s]"
      ]
     },
     "metadata": {},
     "output_type": "display_data"
    },
    {
     "name": "stdout",
     "output_type": "stream",
     "text": [
      "val Loss: 1.1967 Acc: 0.6083\n",
      "\n",
      "Epoch 8/30\n",
      "----------\n"
     ]
    },
    {
     "data": {
      "application/vnd.jupyter.widget-view+json": {
       "model_id": "ecb1b159b9114d5f87698073866d5c58",
       "version_major": 2,
       "version_minor": 0
      },
      "text/plain": [
       "train - Epoch 8/30:   0%|          | 0/516 [00:00<?, ?it/s]"
      ]
     },
     "metadata": {},
     "output_type": "display_data"
    },
    {
     "name": "stdout",
     "output_type": "stream",
     "text": [
      "train Loss: 1.2020 Acc: 0.6122\n"
     ]
    },
    {
     "data": {
      "application/vnd.jupyter.widget-view+json": {
       "model_id": "37e2b855670040698c74256b97435309",
       "version_major": 2,
       "version_minor": 0
      },
      "text/plain": [
       "val - Epoch 8/30:   0%|          | 0/58 [00:00<?, ?it/s]"
      ]
     },
     "metadata": {},
     "output_type": "display_data"
    },
    {
     "name": "stdout",
     "output_type": "stream",
     "text": [
      "val Loss: 1.1333 Acc: 0.6471\n",
      "\n",
      "Epoch 9/30\n",
      "----------\n"
     ]
    },
    {
     "data": {
      "application/vnd.jupyter.widget-view+json": {
       "model_id": "fbf44ba97fb64b139031ff78ee7267f1",
       "version_major": 2,
       "version_minor": 0
      },
      "text/plain": [
       "train - Epoch 9/30:   0%|          | 0/516 [00:00<?, ?it/s]"
      ]
     },
     "metadata": {},
     "output_type": "display_data"
    },
    {
     "name": "stdout",
     "output_type": "stream",
     "text": [
      "train Loss: 1.1894 Acc: 0.6188\n"
     ]
    },
    {
     "data": {
      "application/vnd.jupyter.widget-view+json": {
       "model_id": "c4f449eafd8246ff87031eb7394b5f51",
       "version_major": 2,
       "version_minor": 0
      },
      "text/plain": [
       "val - Epoch 9/30:   0%|          | 0/58 [00:00<?, ?it/s]"
      ]
     },
     "metadata": {},
     "output_type": "display_data"
    },
    {
     "name": "stdout",
     "output_type": "stream",
     "text": [
      "val Loss: 1.1216 Acc: 0.6550\n",
      "\n",
      "Epoch 10/30\n",
      "----------\n"
     ]
    },
    {
     "data": {
      "application/vnd.jupyter.widget-view+json": {
       "model_id": "bfc8b34aed1b41ba9c5b2a51ae82fe19",
       "version_major": 2,
       "version_minor": 0
      },
      "text/plain": [
       "train - Epoch 10/30:   0%|          | 0/516 [00:00<?, ?it/s]"
      ]
     },
     "metadata": {},
     "output_type": "display_data"
    },
    {
     "name": "stdout",
     "output_type": "stream",
     "text": [
      "train Loss: 1.1780 Acc: 0.6189\n"
     ]
    },
    {
     "data": {
      "application/vnd.jupyter.widget-view+json": {
       "model_id": "5f99c25ddc264ef99670ab49657ad3a6",
       "version_major": 2,
       "version_minor": 0
      },
      "text/plain": [
       "val - Epoch 10/30:   0%|          | 0/58 [00:00<?, ?it/s]"
      ]
     },
     "metadata": {},
     "output_type": "display_data"
    },
    {
     "name": "stdout",
     "output_type": "stream",
     "text": [
      "val Loss: 1.1075 Acc: 0.6539\n",
      "\n",
      "Epoch 11/30\n",
      "----------\n"
     ]
    },
    {
     "data": {
      "application/vnd.jupyter.widget-view+json": {
       "model_id": "253a5aa472d647c7a37619cf6be4abb5",
       "version_major": 2,
       "version_minor": 0
      },
      "text/plain": [
       "train - Epoch 11/30:   0%|          | 0/516 [00:00<?, ?it/s]"
      ]
     },
     "metadata": {},
     "output_type": "display_data"
    },
    {
     "name": "stdout",
     "output_type": "stream",
     "text": [
      "train Loss: 1.1701 Acc: 0.6232\n"
     ]
    },
    {
     "data": {
      "application/vnd.jupyter.widget-view+json": {
       "model_id": "fbb6855d9e574008bf0dfc99e6466a10",
       "version_major": 2,
       "version_minor": 0
      },
      "text/plain": [
       "val - Epoch 11/30:   0%|          | 0/58 [00:00<?, ?it/s]"
      ]
     },
     "metadata": {},
     "output_type": "display_data"
    },
    {
     "name": "stdout",
     "output_type": "stream",
     "text": [
      "val Loss: 1.0938 Acc: 0.6598\n",
      "\n",
      "Epoch 12/30\n",
      "----------\n"
     ]
    },
    {
     "data": {
      "application/vnd.jupyter.widget-view+json": {
       "model_id": "388d7a81780948d1a36cd832cafa6313",
       "version_major": 2,
       "version_minor": 0
      },
      "text/plain": [
       "train - Epoch 12/30:   0%|          | 0/516 [00:00<?, ?it/s]"
      ]
     },
     "metadata": {},
     "output_type": "display_data"
    },
    {
     "name": "stdout",
     "output_type": "stream",
     "text": [
      "train Loss: 1.1599 Acc: 0.6287\n"
     ]
    },
    {
     "data": {
      "application/vnd.jupyter.widget-view+json": {
       "model_id": "8e0a5565a2124580a95a3c7377c44a91",
       "version_major": 2,
       "version_minor": 0
      },
      "text/plain": [
       "val - Epoch 12/30:   0%|          | 0/58 [00:00<?, ?it/s]"
      ]
     },
     "metadata": {},
     "output_type": "display_data"
    },
    {
     "name": "stdout",
     "output_type": "stream",
     "text": [
      "val Loss: 1.0971 Acc: 0.6586\n",
      "\n",
      "Epoch 13/30\n",
      "----------\n"
     ]
    },
    {
     "data": {
      "application/vnd.jupyter.widget-view+json": {
       "model_id": "e99aaf869c684cae8507a276e1c548c8",
       "version_major": 2,
       "version_minor": 0
      },
      "text/plain": [
       "train - Epoch 13/30:   0%|          | 0/516 [00:00<?, ?it/s]"
      ]
     },
     "metadata": {},
     "output_type": "display_data"
    },
    {
     "name": "stdout",
     "output_type": "stream",
     "text": [
      "train Loss: 1.1532 Acc: 0.6309\n"
     ]
    },
    {
     "data": {
      "application/vnd.jupyter.widget-view+json": {
       "model_id": "b77f53919f50470ea563dbc5271bc737",
       "version_major": 2,
       "version_minor": 0
      },
      "text/plain": [
       "val - Epoch 13/30:   0%|          | 0/58 [00:00<?, ?it/s]"
      ]
     },
     "metadata": {},
     "output_type": "display_data"
    },
    {
     "name": "stdout",
     "output_type": "stream",
     "text": [
      "val Loss: 1.0794 Acc: 0.6610\n",
      "\n",
      "Epoch 14/30\n",
      "----------\n"
     ]
    },
    {
     "data": {
      "application/vnd.jupyter.widget-view+json": {
       "model_id": "7e81af5e374744df9c840d11dc0999a2",
       "version_major": 2,
       "version_minor": 0
      },
      "text/plain": [
       "train - Epoch 14/30:   0%|          | 0/516 [00:00<?, ?it/s]"
      ]
     },
     "metadata": {},
     "output_type": "display_data"
    },
    {
     "name": "stdout",
     "output_type": "stream",
     "text": [
      "train Loss: 1.1417 Acc: 0.6356\n"
     ]
    },
    {
     "data": {
      "application/vnd.jupyter.widget-view+json": {
       "model_id": "38b10c78b88144d284f2d82f28a68910",
       "version_major": 2,
       "version_minor": 0
      },
      "text/plain": [
       "val - Epoch 14/30:   0%|          | 0/58 [00:00<?, ?it/s]"
      ]
     },
     "metadata": {},
     "output_type": "display_data"
    },
    {
     "name": "stdout",
     "output_type": "stream",
     "text": [
      "val Loss: 1.0710 Acc: 0.6707\n",
      "\n",
      "Epoch 15/30\n",
      "----------\n"
     ]
    },
    {
     "data": {
      "application/vnd.jupyter.widget-view+json": {
       "model_id": "b3819409187c482bb3d94716a30df8bf",
       "version_major": 2,
       "version_minor": 0
      },
      "text/plain": [
       "train - Epoch 15/30:   0%|          | 0/516 [00:00<?, ?it/s]"
      ]
     },
     "metadata": {},
     "output_type": "display_data"
    },
    {
     "name": "stdout",
     "output_type": "stream",
     "text": [
      "train Loss: 1.1367 Acc: 0.6357\n"
     ]
    },
    {
     "data": {
      "application/vnd.jupyter.widget-view+json": {
       "model_id": "c293eb9eb4cb4a16be541cdd8e9ae43e",
       "version_major": 2,
       "version_minor": 0
      },
      "text/plain": [
       "val - Epoch 15/30:   0%|          | 0/58 [00:00<?, ?it/s]"
      ]
     },
     "metadata": {},
     "output_type": "display_data"
    },
    {
     "name": "stdout",
     "output_type": "stream",
     "text": [
      "val Loss: 1.0639 Acc: 0.6689\n",
      "\n",
      "Epoch 16/30\n",
      "----------\n"
     ]
    },
    {
     "data": {
      "application/vnd.jupyter.widget-view+json": {
       "model_id": "b1d6c9fd54d449fba0a8b04f7b3db069",
       "version_major": 2,
       "version_minor": 0
      },
      "text/plain": [
       "train - Epoch 16/30:   0%|          | 0/516 [00:00<?, ?it/s]"
      ]
     },
     "metadata": {},
     "output_type": "display_data"
    },
    {
     "name": "stdout",
     "output_type": "stream",
     "text": [
      "train Loss: 1.1356 Acc: 0.6379\n"
     ]
    },
    {
     "data": {
      "application/vnd.jupyter.widget-view+json": {
       "model_id": "b66697fe9a09464682e5e221adfd362f",
       "version_major": 2,
       "version_minor": 0
      },
      "text/plain": [
       "val - Epoch 16/30:   0%|          | 0/58 [00:00<?, ?it/s]"
      ]
     },
     "metadata": {},
     "output_type": "display_data"
    },
    {
     "name": "stdout",
     "output_type": "stream",
     "text": [
      "val Loss: 1.0646 Acc: 0.6688\n",
      "\n",
      "Epoch 17/30\n",
      "----------\n"
     ]
    },
    {
     "data": {
      "application/vnd.jupyter.widget-view+json": {
       "model_id": "c6c9c5599f8d4f77bfddff277007c045",
       "version_major": 2,
       "version_minor": 0
      },
      "text/plain": [
       "train - Epoch 17/30:   0%|          | 0/516 [00:00<?, ?it/s]"
      ]
     },
     "metadata": {},
     "output_type": "display_data"
    },
    {
     "name": "stdout",
     "output_type": "stream",
     "text": [
      "train Loss: 1.1322 Acc: 0.6365\n"
     ]
    },
    {
     "data": {
      "application/vnd.jupyter.widget-view+json": {
       "model_id": "8c9d4f2639394f2ebcfe91a165bc939b",
       "version_major": 2,
       "version_minor": 0
      },
      "text/plain": [
       "val - Epoch 17/30:   0%|          | 0/58 [00:00<?, ?it/s]"
      ]
     },
     "metadata": {},
     "output_type": "display_data"
    },
    {
     "name": "stdout",
     "output_type": "stream",
     "text": [
      "val Loss: 1.0623 Acc: 0.6711\n",
      "\n",
      "Epoch 18/30\n",
      "----------\n"
     ]
    },
    {
     "data": {
      "application/vnd.jupyter.widget-view+json": {
       "model_id": "696303c715f44cf6bd89ea251f8bf387",
       "version_major": 2,
       "version_minor": 0
      },
      "text/plain": [
       "train - Epoch 18/30:   0%|          | 0/516 [00:00<?, ?it/s]"
      ]
     },
     "metadata": {},
     "output_type": "display_data"
    },
    {
     "name": "stdout",
     "output_type": "stream",
     "text": [
      "train Loss: 1.1334 Acc: 0.6362\n"
     ]
    },
    {
     "data": {
      "application/vnd.jupyter.widget-view+json": {
       "model_id": "6002a64d5e8545e79b4868fd196b1117",
       "version_major": 2,
       "version_minor": 0
      },
      "text/plain": [
       "val - Epoch 18/30:   0%|          | 0/58 [00:00<?, ?it/s]"
      ]
     },
     "metadata": {},
     "output_type": "display_data"
    },
    {
     "name": "stdout",
     "output_type": "stream",
     "text": [
      "val Loss: 1.0646 Acc: 0.6694\n",
      "\n",
      "Epoch 19/30\n",
      "----------\n"
     ]
    },
    {
     "data": {
      "application/vnd.jupyter.widget-view+json": {
       "model_id": "24a834b113f34e6db56a935a429cef0b",
       "version_major": 2,
       "version_minor": 0
      },
      "text/plain": [
       "train - Epoch 19/30:   0%|          | 0/516 [00:00<?, ?it/s]"
      ]
     },
     "metadata": {},
     "output_type": "display_data"
    },
    {
     "name": "stdout",
     "output_type": "stream",
     "text": [
      "train Loss: 1.1350 Acc: 0.6366\n"
     ]
    },
    {
     "data": {
      "application/vnd.jupyter.widget-view+json": {
       "model_id": "013836b50bb64be59f8264b647313ed4",
       "version_major": 2,
       "version_minor": 0
      },
      "text/plain": [
       "val - Epoch 19/30:   0%|          | 0/58 [00:00<?, ?it/s]"
      ]
     },
     "metadata": {},
     "output_type": "display_data"
    },
    {
     "name": "stdout",
     "output_type": "stream",
     "text": [
      "val Loss: 1.0682 Acc: 0.6722\n",
      "\n",
      "Epoch 20/30\n",
      "----------\n"
     ]
    },
    {
     "data": {
      "application/vnd.jupyter.widget-view+json": {
       "model_id": "bff65acf3e9646f8ab8b3b7752d14e33",
       "version_major": 2,
       "version_minor": 0
      },
      "text/plain": [
       "train - Epoch 20/30:   0%|          | 0/516 [00:00<?, ?it/s]"
      ]
     },
     "metadata": {},
     "output_type": "display_data"
    },
    {
     "name": "stdout",
     "output_type": "stream",
     "text": [
      "train Loss: 1.1298 Acc: 0.6383\n"
     ]
    },
    {
     "data": {
      "application/vnd.jupyter.widget-view+json": {
       "model_id": "e21ee555a8ae45a2a0ce54e417fe53e9",
       "version_major": 2,
       "version_minor": 0
      },
      "text/plain": [
       "val - Epoch 20/30:   0%|          | 0/58 [00:00<?, ?it/s]"
      ]
     },
     "metadata": {},
     "output_type": "display_data"
    },
    {
     "name": "stdout",
     "output_type": "stream",
     "text": [
      "val Loss: 1.0609 Acc: 0.6739\n",
      "\n",
      "Epoch 21/30\n",
      "----------\n"
     ]
    },
    {
     "data": {
      "application/vnd.jupyter.widget-view+json": {
       "model_id": "be6104414ba5435d9a2f0e7b92ecd7d8",
       "version_major": 2,
       "version_minor": 0
      },
      "text/plain": [
       "train - Epoch 21/30:   0%|          | 0/516 [00:00<?, ?it/s]"
      ]
     },
     "metadata": {},
     "output_type": "display_data"
    },
    {
     "name": "stdout",
     "output_type": "stream",
     "text": [
      "train Loss: 1.1302 Acc: 0.6384\n"
     ]
    },
    {
     "data": {
      "application/vnd.jupyter.widget-view+json": {
       "model_id": "8f8982a98a294e6fb84efe437d4ff296",
       "version_major": 2,
       "version_minor": 0
      },
      "text/plain": [
       "val - Epoch 21/30:   0%|          | 0/58 [00:00<?, ?it/s]"
      ]
     },
     "metadata": {},
     "output_type": "display_data"
    },
    {
     "name": "stdout",
     "output_type": "stream",
     "text": [
      "val Loss: 1.0648 Acc: 0.6689\n",
      "\n",
      "Epoch 22/30\n",
      "----------\n"
     ]
    },
    {
     "data": {
      "application/vnd.jupyter.widget-view+json": {
       "model_id": "0fb70e9c4e7c446198fe5193128d8b79",
       "version_major": 2,
       "version_minor": 0
      },
      "text/plain": [
       "train - Epoch 22/30:   0%|          | 0/516 [00:00<?, ?it/s]"
      ]
     },
     "metadata": {},
     "output_type": "display_data"
    },
    {
     "name": "stdout",
     "output_type": "stream",
     "text": [
      "train Loss: 1.1306 Acc: 0.6384\n"
     ]
    },
    {
     "data": {
      "application/vnd.jupyter.widget-view+json": {
       "model_id": "4a03f88ccb094e79b6aa3c0ba274dadb",
       "version_major": 2,
       "version_minor": 0
      },
      "text/plain": [
       "val - Epoch 22/30:   0%|          | 0/58 [00:00<?, ?it/s]"
      ]
     },
     "metadata": {},
     "output_type": "display_data"
    },
    {
     "name": "stdout",
     "output_type": "stream",
     "text": [
      "val Loss: 1.0625 Acc: 0.6662\n",
      "\n",
      "Epoch 23/30\n",
      "----------\n"
     ]
    },
    {
     "data": {
      "application/vnd.jupyter.widget-view+json": {
       "model_id": "5faedb42a43e47a59349aa8d3fa15c2b",
       "version_major": 2,
       "version_minor": 0
      },
      "text/plain": [
       "train - Epoch 23/30:   0%|          | 0/516 [00:00<?, ?it/s]"
      ]
     },
     "metadata": {},
     "output_type": "display_data"
    },
    {
     "name": "stdout",
     "output_type": "stream",
     "text": [
      "train Loss: 1.1266 Acc: 0.6395\n"
     ]
    },
    {
     "data": {
      "application/vnd.jupyter.widget-view+json": {
       "model_id": "0b63f2e8ce8d4812ac6eb999a6596071",
       "version_major": 2,
       "version_minor": 0
      },
      "text/plain": [
       "val - Epoch 23/30:   0%|          | 0/58 [00:00<?, ?it/s]"
      ]
     },
     "metadata": {},
     "output_type": "display_data"
    },
    {
     "name": "stdout",
     "output_type": "stream",
     "text": [
      "val Loss: 1.0592 Acc: 0.6728\n",
      "\n",
      "Epoch 24/30\n",
      "----------\n"
     ]
    },
    {
     "data": {
      "application/vnd.jupyter.widget-view+json": {
       "model_id": "1c4f20e32bb44869927dc221958f549e",
       "version_major": 2,
       "version_minor": 0
      },
      "text/plain": [
       "train - Epoch 24/30:   0%|          | 0/516 [00:00<?, ?it/s]"
      ]
     },
     "metadata": {},
     "output_type": "display_data"
    },
    {
     "name": "stdout",
     "output_type": "stream",
     "text": [
      "train Loss: 1.1309 Acc: 0.6370\n"
     ]
    },
    {
     "data": {
      "application/vnd.jupyter.widget-view+json": {
       "model_id": "32e897e73e174e798bd2aa94241e41da",
       "version_major": 2,
       "version_minor": 0
      },
      "text/plain": [
       "val - Epoch 24/30:   0%|          | 0/58 [00:00<?, ?it/s]"
      ]
     },
     "metadata": {},
     "output_type": "display_data"
    },
    {
     "name": "stdout",
     "output_type": "stream",
     "text": [
      "val Loss: 1.0654 Acc: 0.6662\n",
      "\n",
      "Epoch 25/30\n",
      "----------\n"
     ]
    },
    {
     "data": {
      "application/vnd.jupyter.widget-view+json": {
       "model_id": "3efa5c6b5596406dace415df524ffc31",
       "version_major": 2,
       "version_minor": 0
      },
      "text/plain": [
       "train - Epoch 25/30:   0%|          | 0/516 [00:00<?, ?it/s]"
      ]
     },
     "metadata": {},
     "output_type": "display_data"
    },
    {
     "name": "stdout",
     "output_type": "stream",
     "text": [
      "train Loss: 1.1307 Acc: 0.6350\n"
     ]
    },
    {
     "data": {
      "application/vnd.jupyter.widget-view+json": {
       "model_id": "a6b93f96d5774a83af7f564173b78ea1",
       "version_major": 2,
       "version_minor": 0
      },
      "text/plain": [
       "val - Epoch 25/30:   0%|          | 0/58 [00:00<?, ?it/s]"
      ]
     },
     "metadata": {},
     "output_type": "display_data"
    },
    {
     "name": "stdout",
     "output_type": "stream",
     "text": [
      "val Loss: 1.0628 Acc: 0.6650\n",
      "\n",
      "Epoch 26/30\n",
      "----------\n"
     ]
    },
    {
     "data": {
      "application/vnd.jupyter.widget-view+json": {
       "model_id": "58a023a7c1904b909f144cfc4c5febe1",
       "version_major": 2,
       "version_minor": 0
      },
      "text/plain": [
       "train - Epoch 26/30:   0%|          | 0/516 [00:00<?, ?it/s]"
      ]
     },
     "metadata": {},
     "output_type": "display_data"
    },
    {
     "name": "stdout",
     "output_type": "stream",
     "text": [
      "train Loss: 1.1273 Acc: 0.6397\n"
     ]
    },
    {
     "data": {
      "application/vnd.jupyter.widget-view+json": {
       "model_id": "0321a7b749b7429da8744669febe72fe",
       "version_major": 2,
       "version_minor": 0
      },
      "text/plain": [
       "val - Epoch 26/30:   0%|          | 0/58 [00:00<?, ?it/s]"
      ]
     },
     "metadata": {},
     "output_type": "display_data"
    },
    {
     "name": "stdout",
     "output_type": "stream",
     "text": [
      "val Loss: 1.0704 Acc: 0.6713\n",
      "\n",
      "Epoch 27/30\n",
      "----------\n"
     ]
    },
    {
     "data": {
      "application/vnd.jupyter.widget-view+json": {
       "model_id": "e1b6e904d9114e1aa4d1e19cd16f00be",
       "version_major": 2,
       "version_minor": 0
      },
      "text/plain": [
       "train - Epoch 27/30:   0%|          | 0/516 [00:00<?, ?it/s]"
      ]
     },
     "metadata": {},
     "output_type": "display_data"
    },
    {
     "name": "stdout",
     "output_type": "stream",
     "text": [
      "train Loss: 1.1282 Acc: 0.6382\n"
     ]
    },
    {
     "data": {
      "application/vnd.jupyter.widget-view+json": {
       "model_id": "c167d0b3c4a1490b8866e1e5a7f75f25",
       "version_major": 2,
       "version_minor": 0
      },
      "text/plain": [
       "val - Epoch 27/30:   0%|          | 0/58 [00:00<?, ?it/s]"
      ]
     },
     "metadata": {},
     "output_type": "display_data"
    },
    {
     "name": "stdout",
     "output_type": "stream",
     "text": [
      "val Loss: 1.0576 Acc: 0.6732\n",
      "\n",
      "Epoch 28/30\n",
      "----------\n"
     ]
    },
    {
     "data": {
      "application/vnd.jupyter.widget-view+json": {
       "model_id": "436f8002258446edb61c65ea97b285bd",
       "version_major": 2,
       "version_minor": 0
      },
      "text/plain": [
       "train - Epoch 28/30:   0%|          | 0/516 [00:00<?, ?it/s]"
      ]
     },
     "metadata": {},
     "output_type": "display_data"
    },
    {
     "name": "stdout",
     "output_type": "stream",
     "text": [
      "train Loss: 1.1285 Acc: 0.6398\n"
     ]
    },
    {
     "data": {
      "application/vnd.jupyter.widget-view+json": {
       "model_id": "c8a83f129143418e8fece869ff2629ec",
       "version_major": 2,
       "version_minor": 0
      },
      "text/plain": [
       "val - Epoch 28/30:   0%|          | 0/58 [00:00<?, ?it/s]"
      ]
     },
     "metadata": {},
     "output_type": "display_data"
    },
    {
     "name": "stdout",
     "output_type": "stream",
     "text": [
      "val Loss: 1.0658 Acc: 0.6695\n",
      "\n",
      "Epoch 29/30\n",
      "----------\n"
     ]
    },
    {
     "data": {
      "application/vnd.jupyter.widget-view+json": {
       "model_id": "fa2e9d8c8693405281e30710e885a410",
       "version_major": 2,
       "version_minor": 0
      },
      "text/plain": [
       "train - Epoch 29/30:   0%|          | 0/516 [00:00<?, ?it/s]"
      ]
     },
     "metadata": {},
     "output_type": "display_data"
    },
    {
     "name": "stdout",
     "output_type": "stream",
     "text": [
      "train Loss: 1.1274 Acc: 0.6388\n"
     ]
    },
    {
     "data": {
      "application/vnd.jupyter.widget-view+json": {
       "model_id": "b986ca739d294d6c9d8069eaf830ac90",
       "version_major": 2,
       "version_minor": 0
      },
      "text/plain": [
       "val - Epoch 29/30:   0%|          | 0/58 [00:00<?, ?it/s]"
      ]
     },
     "metadata": {},
     "output_type": "display_data"
    },
    {
     "name": "stdout",
     "output_type": "stream",
     "text": [
      "val Loss: 1.0606 Acc: 0.6762\n",
      "\n",
      "Epoch 30/30\n",
      "----------\n"
     ]
    },
    {
     "data": {
      "application/vnd.jupyter.widget-view+json": {
       "model_id": "f5b9255122384ed58a135a3f347198c9",
       "version_major": 2,
       "version_minor": 0
      },
      "text/plain": [
       "train - Epoch 30/30:   0%|          | 0/516 [00:00<?, ?it/s]"
      ]
     },
     "metadata": {},
     "output_type": "display_data"
    },
    {
     "name": "stdout",
     "output_type": "stream",
     "text": [
      "train Loss: 1.1300 Acc: 0.6370\n"
     ]
    },
    {
     "data": {
      "application/vnd.jupyter.widget-view+json": {
       "model_id": "b956b567247449eea3ccfea309352923",
       "version_major": 2,
       "version_minor": 0
      },
      "text/plain": [
       "val - Epoch 30/30:   0%|          | 0/58 [00:00<?, ?it/s]"
      ]
     },
     "metadata": {},
     "output_type": "display_data"
    },
    {
     "name": "stdout",
     "output_type": "stream",
     "text": [
      "val Loss: 1.0638 Acc: 0.6661\n",
      "\n",
      "Training complete in 25m 11s\n",
      "Best val Acc: 0.6762\n"
     ]
    },
    {
     "data": {
      "image/png": "[encoded data removed]",
      "text/plain": [
       "<Figure size 1500x500 with 2 Axes>"
      ]
     },
     "metadata": {},
     "output_type": "display_data"
    },
    {
     "name": "stdout",
     "output_type": "stream",
     "text": [
      "Training history plot saved to ./results/customcnn_on_svhn_history.png\n"
     ]
    },
    {
     "data": {
      "application/vnd.jupyter.widget-view+json": {
       "model_id": "dfd8013394ad4a89a60b5288ce106602",
       "version_major": 2,
       "version_minor": 0
      },
      "text/plain": [
       "Evaluating on svhn:   0%|          | 0/204 [00:00<?, ?it/s]"
      ]
     },
     "metadata": {},
     "output_type": "display_data"
    },
    {
     "name": "stdout",
     "output_type": "stream",
     "text": [
      "Test Loss: 1.0860 Acc: 0.6409\n"
     ]
    },
    {
     "data": {
      "image/png": "[encoded data removed]",
      "text/plain": [
       "<Figure size 1000x800 with 2 Axes>"
      ]
     },
     "metadata": {},
     "output_type": "display_data"
    },
    {
     "name": "stdout",
     "output_type": "stream",
     "text": [
      "Confusion matrix plot saved to ./results/customcnn_on_svhn_confusion_matrix.png\n",
      "Classification report saved to ./results/customcnn_on_svhn_classification_report.csv\n",
      "\n",
      "Classification Report:\n"
     ]
    },
    {
     "data": {
      "text/html": [
       "<div>\n",
       "<style scoped>\n",
       "    .dataframe tbody tr th:only-of-type {\n",
       "        vertical-align: middle;\n",
       "    }\n",
       "\n",
       "    .dataframe tbody tr th {\n",
       "        vertical-align: top;\n",
       "    }\n",
       "\n",
       "    .dataframe thead th {\n",
       "        text-align: right;\n",
       "    }\n",
       "</style>\n",
       "<table border=\"1\" class=\"dataframe\">\n",
       "  <thead>\n",
       "    <tr style=\"text-align: right;\">\n",
       "      <th></th>\n",
       "      <th>precision</th>\n",
       "      <th>recall</th>\n",
       "      <th>f1-score</th>\n",
       "      <th>support</th>\n",
       "    </tr>\n",
       "  </thead>\n",
       "  <tbody>\n",
       "    <tr>\n",
       "      <th>0</th>\n",
       "      <td>0.824022</td>\n",
       "      <td>0.676606</td>\n",
       "      <td>0.743073</td>\n",
       "      <td>1744.000000</td>\n",
       "    </tr>\n",
       "    <tr>\n",
       "      <th>1</th>\n",
       "      <td>0.777518</td>\n",
       "      <td>0.849186</td>\n",
       "      <td>0.811774</td>\n",
       "      <td>5099.000000</td>\n",
       "    </tr>\n",
       "    <tr>\n",
       "      <th>2</th>\n",
       "      <td>0.616510</td>\n",
       "      <td>0.772234</td>\n",
       "      <td>0.685641</td>\n",
       "      <td>4149.000000</td>\n",
       "    </tr>\n",
       "    <tr>\n",
       "      <th>3</th>\n",
       "      <td>0.440558</td>\n",
       "      <td>0.581194</td>\n",
       "      <td>0.501197</td>\n",
       "      <td>2882.000000</td>\n",
       "    </tr>\n",
       "    <tr>\n",
       "      <th>4</th>\n",
       "      <td>0.670543</td>\n",
       "      <td>0.754261</td>\n",
       "      <td>0.709942</td>\n",
       "      <td>2523.000000</td>\n",
       "    </tr>\n",
       "    <tr>\n",
       "      <th>5</th>\n",
       "      <td>0.505643</td>\n",
       "      <td>0.563758</td>\n",
       "      <td>0.533122</td>\n",
       "      <td>2384.000000</td>\n",
       "    </tr>\n",
       "    <tr>\n",
       "      <th>6</th>\n",
       "      <td>0.590521</td>\n",
       "      <td>0.315124</td>\n",
       "      <td>0.410950</td>\n",
       "      <td>1977.000000</td>\n",
       "    </tr>\n",
       "    <tr>\n",
       "      <th>7</th>\n",
       "      <td>0.752381</td>\n",
       "      <td>0.665181</td>\n",
       "      <td>0.706099</td>\n",
       "      <td>2019.000000</td>\n",
       "    </tr>\n",
       "    <tr>\n",
       "      <th>8</th>\n",
       "      <td>0.746377</td>\n",
       "      <td>0.372289</td>\n",
       "      <td>0.496785</td>\n",
       "      <td>1660.000000</td>\n",
       "    </tr>\n",
       "    <tr>\n",
       "      <th>9</th>\n",
       "      <td>0.533410</td>\n",
       "      <td>0.290282</td>\n",
       "      <td>0.375964</td>\n",
       "      <td>1595.000000</td>\n",
       "    </tr>\n",
       "    <tr>\n",
       "      <th>accuracy</th>\n",
       "      <td>0.640865</td>\n",
       "      <td>0.640865</td>\n",
       "      <td>0.640865</td>\n",
       "      <td>0.640865</td>\n",
       "    </tr>\n",
       "    <tr>\n",
       "      <th>macro avg</th>\n",
       "      <td>0.645748</td>\n",
       "      <td>0.584011</td>\n",
       "      <td>0.597455</td>\n",
       "      <td>26032.000000</td>\n",
       "    </tr>\n",
       "    <tr>\n",
       "      <th>weighted avg</th>\n",
       "      <td>0.649307</td>\n",
       "      <td>0.640865</td>\n",
       "      <td>0.631871</td>\n",
       "      <td>26032.000000</td>\n",
       "    </tr>\n",
       "  </tbody>\n",
       "</table>\n",
       "</div>"
      ],
      "text/plain": [
       "              precision    recall  f1-score       support\n",
       "0              0.824022  0.676606  0.743073   1744.000000\n",
       "1              0.777518  0.849186  0.811774   5099.000000\n",
       "2              0.616510  0.772234  0.685641   4149.000000\n",
       "3              0.440558  0.581194  0.501197   2882.000000\n",
       "4              0.670543  0.754261  0.709942   2523.000000\n",
       "5              0.505643  0.563758  0.533122   2384.000000\n",
       "6              0.590521  0.315124  0.410950   1977.000000\n",
       "7              0.752381  0.665181  0.706099   2019.000000\n",
       "8              0.746377  0.372289  0.496785   1660.000000\n",
       "9              0.533410  0.290282  0.375964   1595.000000\n",
       "accuracy       0.640865  0.640865  0.640865      0.640865\n",
       "macro avg      0.645748  0.584011  0.597455  26032.000000\n",
       "weighted avg   0.649307  0.640865  0.631871  26032.000000"
      ]
     },
     "metadata": {},
     "output_type": "display_data"
    },
    {
     "data": {
      "image/png": "[encoded data removed]",
      "text/plain": [
       "<Figure size 1500x600 with 2 Axes>"
      ]
     },
     "metadata": {},
     "output_type": "display_data"
    },
    {
     "name": "stdout",
     "output_type": "stream",
     "text": [
      "Model comparison plot saved to ./results/Model_Comparison_on_svhn_comparison.png\n",
      "\n",
      "Final Results:\n",
      "\n",
      "Dataset: cifar10\n",
      "  customcnn: Accuracy = 0.5466, Loss = 1.2497\n",
      "\n",
      "Dataset: svhn\n",
      "  customcnn: Accuracy = 0.6409, Loss = 1.0860\n"
     ]
    }
   ],
   "source": [
    "results = run_experiment(\n",
    "    dataset_names=['cifar10', 'svhn'],\n",
    "    model_names=['lenet', 'resnet18', 'customcnn'],\n",
    "    batch_size=128,\n",
    "    epochs=30,\n",
    "    learning_rate=0.001,\n",
    "    weight_decay=1e-4,\n",
    "    num_workers=2,\n",
    "    save_dir='./results'\n",
    ")"
   ]
  }
 ],
 "metadata": {
  "kernelspec": {
   "display_name": "Python 3 (ipykernel)",
   "language": "python",
   "name": "python3"
  },
  "language_info": {
   "codemirror_mode": {
    "name": "ipython",
    "version": 3
   },
   "file_extension": ".py",
   "mimetype": "text/x-python",
   "name": "python",
   "nbconvert_exporter": "python",
   "pygments_lexer": "ipython3",
   "version": "3.13.2"
  }
 },
 "nbformat": 4,
 "nbformat_minor": 5
}
